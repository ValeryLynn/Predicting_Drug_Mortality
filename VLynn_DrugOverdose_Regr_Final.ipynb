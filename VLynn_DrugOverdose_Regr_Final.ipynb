{
 "cells": [
  {
   "cell_type": "code",
   "execution_count": 2,
   "metadata": {},
   "outputs": [
    {
     "name": "stdout",
     "output_type": "stream",
     "text": [
      "(1623, 71)\n"
     ]
    },
    {
     "data": {
      "text/html": [
       "<div>\n",
       "<style scoped>\n",
       "    .dataframe tbody tr th:only-of-type {\n",
       "        vertical-align: middle;\n",
       "    }\n",
       "\n",
       "    .dataframe tbody tr th {\n",
       "        vertical-align: top;\n",
       "    }\n",
       "\n",
       "    .dataframe thead th {\n",
       "        text-align: right;\n",
       "    }\n",
       "</style>\n",
       "<table border=\"1\" class=\"dataframe\">\n",
       "  <thead>\n",
       "    <tr style=\"text-align: right;\">\n",
       "      <th></th>\n",
       "      <th>drugmort</th>\n",
       "      <th>aamort</th>\n",
       "      <th>chmort</th>\n",
       "      <th>infmort</th>\n",
       "      <th>physdistr</th>\n",
       "      <th>mentdistr</th>\n",
       "      <th>diabetic</th>\n",
       "      <th>hiv</th>\n",
       "      <th>foodins</th>\n",
       "      <th>healthyfood</th>\n",
       "      <th>...</th>\n",
       "      <th>X20income</th>\n",
       "      <th>singparent</th>\n",
       "      <th>socialassoc</th>\n",
       "      <th>violcrime</th>\n",
       "      <th>severehous</th>\n",
       "      <th>commute</th>\n",
       "      <th>new_pcp_ratio</th>\n",
       "      <th>new_mhp_ratio</th>\n",
       "      <th>new_othpcp_ratio</th>\n",
       "      <th>new_dent_ratio</th>\n",
       "    </tr>\n",
       "  </thead>\n",
       "  <tbody>\n",
       "    <tr>\n",
       "      <th>0</th>\n",
       "      <td>10</td>\n",
       "      <td>468.0</td>\n",
       "      <td>55.0</td>\n",
       "      <td>7.0</td>\n",
       "      <td>12</td>\n",
       "      <td>13</td>\n",
       "      <td>13</td>\n",
       "      <td>205.0</td>\n",
       "      <td>14</td>\n",
       "      <td>10</td>\n",
       "      <td>...</td>\n",
       "      <td>22695</td>\n",
       "      <td>25</td>\n",
       "      <td>13.7</td>\n",
       "      <td>266.0</td>\n",
       "      <td>15</td>\n",
       "      <td>43</td>\n",
       "      <td>2408.0</td>\n",
       "      <td>7907.0</td>\n",
       "      <td>4257.0</td>\n",
       "      <td>3256</td>\n",
       "    </tr>\n",
       "    <tr>\n",
       "      <th>1</th>\n",
       "      <td>17</td>\n",
       "      <td>361.0</td>\n",
       "      <td>48.0</td>\n",
       "      <td>6.0</td>\n",
       "      <td>12</td>\n",
       "      <td>12</td>\n",
       "      <td>10</td>\n",
       "      <td>169.0</td>\n",
       "      <td>14</td>\n",
       "      <td>5</td>\n",
       "      <td>...</td>\n",
       "      <td>22065</td>\n",
       "      <td>27</td>\n",
       "      <td>11.5</td>\n",
       "      <td>217.0</td>\n",
       "      <td>15</td>\n",
       "      <td>38</td>\n",
       "      <td>1352.0</td>\n",
       "      <td>1198.0</td>\n",
       "      <td>2680.0</td>\n",
       "      <td>2100</td>\n",
       "    </tr>\n",
       "    <tr>\n",
       "      <th>2</th>\n",
       "      <td>15</td>\n",
       "      <td>521.0</td>\n",
       "      <td>105.0</td>\n",
       "      <td>12.0</td>\n",
       "      <td>13</td>\n",
       "      <td>13</td>\n",
       "      <td>15</td>\n",
       "      <td>120.0</td>\n",
       "      <td>16</td>\n",
       "      <td>2</td>\n",
       "      <td>...</td>\n",
       "      <td>18287</td>\n",
       "      <td>30</td>\n",
       "      <td>10.2</td>\n",
       "      <td>147.0</td>\n",
       "      <td>14</td>\n",
       "      <td>47</td>\n",
       "      <td>2501.0</td>\n",
       "      <td>1980.5</td>\n",
       "      <td>2053.0</td>\n",
       "      <td>5646</td>\n",
       "    </tr>\n",
       "    <tr>\n",
       "      <th>3</th>\n",
       "      <td>21</td>\n",
       "      <td>445.0</td>\n",
       "      <td>44.0</td>\n",
       "      <td>6.0</td>\n",
       "      <td>13</td>\n",
       "      <td>13</td>\n",
       "      <td>14</td>\n",
       "      <td>96.0</td>\n",
       "      <td>12</td>\n",
       "      <td>1</td>\n",
       "      <td>...</td>\n",
       "      <td>20679</td>\n",
       "      <td>27</td>\n",
       "      <td>8.5</td>\n",
       "      <td>212.0</td>\n",
       "      <td>12</td>\n",
       "      <td>60</td>\n",
       "      <td>5247.0</td>\n",
       "      <td>14418.0</td>\n",
       "      <td>11535.0</td>\n",
       "      <td>5243</td>\n",
       "    </tr>\n",
       "    <tr>\n",
       "      <th>4</th>\n",
       "      <td>13</td>\n",
       "      <td>550.0</td>\n",
       "      <td>70.0</td>\n",
       "      <td>8.0</td>\n",
       "      <td>14</td>\n",
       "      <td>14</td>\n",
       "      <td>15</td>\n",
       "      <td>198.0</td>\n",
       "      <td>18</td>\n",
       "      <td>10</td>\n",
       "      <td>...</td>\n",
       "      <td>16369</td>\n",
       "      <td>40</td>\n",
       "      <td>14.7</td>\n",
       "      <td>574.0</td>\n",
       "      <td>15</td>\n",
       "      <td>30</td>\n",
       "      <td>1505.0</td>\n",
       "      <td>1123.0</td>\n",
       "      <td>2360.0</td>\n",
       "      <td>1807</td>\n",
       "    </tr>\n",
       "  </tbody>\n",
       "</table>\n",
       "<p>5 rows × 71 columns</p>\n",
       "</div>"
      ],
      "text/plain": [
       "   drugmort  aamort  chmort  infmort  physdistr  mentdistr  diabetic    hiv  \\\n",
       "0        10   468.0    55.0      7.0         12         13        13  205.0   \n",
       "1        17   361.0    48.0      6.0         12         12        10  169.0   \n",
       "2        15   521.0   105.0     12.0         13         13        15  120.0   \n",
       "3        21   445.0    44.0      6.0         13         13        14   96.0   \n",
       "4        13   550.0    70.0      8.0         14         14        15  198.0   \n",
       "\n",
       "   foodins  healthyfood       ...        X20income  singparent  socialassoc  \\\n",
       "0       14           10       ...            22695          25         13.7   \n",
       "1       14            5       ...            22065          27         11.5   \n",
       "2       16            2       ...            18287          30         10.2   \n",
       "3       12            1       ...            20679          27          8.5   \n",
       "4       18           10       ...            16369          40         14.7   \n",
       "\n",
       "   violcrime  severehous  commute  new_pcp_ratio  new_mhp_ratio  \\\n",
       "0      266.0          15       43         2408.0         7907.0   \n",
       "1      217.0          15       38         1352.0         1198.0   \n",
       "2      147.0          14       47         2501.0         1980.5   \n",
       "3      212.0          12       60         5247.0        14418.0   \n",
       "4      574.0          15       30         1505.0         1123.0   \n",
       "\n",
       "   new_othpcp_ratio  new_dent_ratio  \n",
       "0            4257.0            3256  \n",
       "1            2680.0            2100  \n",
       "2            2053.0            5646  \n",
       "3           11535.0            5243  \n",
       "4            2360.0            1807  \n",
       "\n",
       "[5 rows x 71 columns]"
      ]
     },
     "execution_count": 2,
     "metadata": {},
     "output_type": "execute_result"
    }
   ],
   "source": [
    "# Import basic Python modules\n",
    "import pandas as pd\n",
    "import numpy as np\n",
    "import matplotlib.pyplot as plt\n",
    "import seaborn as sns; sns.set(color_codes=True)\n",
    "\n",
    "#Read in csv of cleaned data for the full regression(71 predictors: df1)\n",
    "df = pd.read_csv('Model1.csv')\n",
    "print(df.shape)\n",
    "df.head()\n"
   ]
  },
  {
   "cell_type": "markdown",
   "metadata": {},
   "source": [
    "## Set up variables and scale the features"
   ]
  },
  {
   "cell_type": "code",
   "execution_count": 3,
   "metadata": {},
   "outputs": [],
   "source": [
    "# Import sklearn regression modules\n",
    "from sklearn.linear_model import LinearRegression\n",
    "\n",
    "#Set up variables: X, y\n",
    "df1= df.drop('drugmort', axis = 1)\n",
    "X = df1.values\n",
    "y = df['drugmort'].values\n"
   ]
  },
  {
   "cell_type": "code",
   "execution_count": 4,
   "metadata": {},
   "outputs": [
    {
     "name": "stderr",
     "output_type": "stream",
     "text": [
      "C:\\Users\\Valery\\Anaconda3\\lib\\site-packages\\sklearn\\utils\\validation.py:475: DataConversionWarning: Data with input dtype int64 was converted to float64 by the scale function.\n",
      "  warnings.warn(msg, DataConversionWarning)\n"
     ]
    }
   ],
   "source": [
    "# Import scale\n",
    "from sklearn.preprocessing import scale\n",
    "\n",
    "# Scale the features\n",
    "X = scale(X)\n",
    "y = scale(y)\n"
   ]
  },
  {
   "cell_type": "markdown",
   "metadata": {},
   "source": [
    "## Linear regression - full, untransformed, scaled: Model 1 (from R)"
   ]
  },
  {
   "cell_type": "code",
   "execution_count": 14,
   "metadata": {},
   "outputs": [
    {
     "name": "stdout",
     "output_type": "stream",
     "text": [
      "R^2 training set: 0.5931242936943508\n",
      "Root Mean Squared Error testing set: 0.7254064261627756\n"
     ]
    }
   ],
   "source": [
    "# Import necessary modules\n",
    "from sklearn.metrics import mean_squared_error\n",
    "from sklearn.model_selection import train_test_split\n",
    "from sklearn.metrics import accuracy_score\n",
    "\n",
    "\n",
    "# Create training and test sets\n",
    "X_train, X_test, y_train, y_test = train_test_split(X, y, test_size = 0.3, random_state=42)\n",
    "\n",
    "# Create the regressor: reg_all\n",
    "reg_all = LinearRegression()\n",
    "\n",
    "# Fit the regressor to the training data\n",
    "reg_all.fit(X_train, y_train)\n",
    "\n",
    "# Predict on the test data: y_pred\n",
    "y_pred = reg_all.predict(X_test)\n",
    "\n",
    "# Compute and print R^2 and RMSE\n",
    "print(\"R^2 training set: {}\".format(reg_all.score(X_train, y_train)))\n",
    "\n",
    "rmsemod1 = np.sqrt(mean_squared_error(y_test, y_pred))\n",
    "print(\"Root Mean Squared Error testing set: {}\".format(rmsemod1))"
   ]
  },
  {
   "cell_type": "markdown",
   "metadata": {},
   "source": [
    "## 10-Fold cross validation on full, untransformed linear model"
   ]
  },
  {
   "cell_type": "code",
   "execution_count": 6,
   "metadata": {},
   "outputs": [
    {
     "name": "stdout",
     "output_type": "stream",
     "text": [
      "[0.10265658 0.12375062 0.52131774 0.46140252 0.34492194 0.30942162\n",
      " 0.33721213 0.45249759 0.34786868 0.5842513 ]\n",
      "Average 10-Fold CV Score: 0.3585300701892621\n"
     ]
    }
   ],
   "source": [
    "# Import the necessary modules\n",
    "from sklearn.model_selection import cross_val_score\n",
    "\n",
    "# Compute 10-fold cross-validation scores: cv_reg\n",
    "cv_reg = cross_val_score(reg_all, X, y, cv=10)\n",
    "\n",
    "# Print the 10-fold cross-validation scores\n",
    "print(cv_reg)\n",
    "\n",
    "print(\"Average 10-Fold CV Score: {}\".format(np.mean(cv_reg)))"
   ]
  },
  {
   "cell_type": "markdown",
   "metadata": {},
   "source": [
    "## Ridge Regression: Full/untransformed data\n",
    "\n",
    "### 1) Determine the best alpha level"
   ]
  },
  {
   "cell_type": "code",
   "execution_count": 7,
   "metadata": {},
   "outputs": [],
   "source": [
    "def display_plot(cv_scores, cv_scores_std):\n",
    "    fig = plt.figure()\n",
    "    ax = fig.add_subplot(1,1,1)\n",
    "    ax.plot(alpha_space, cv_scores)\n",
    "\n",
    "    std_error = cv_scores_std / np.sqrt(10)\n",
    "\n",
    "    ax.fill_between(alpha_space, cv_scores + std_error, cv_scores - std_error, alpha=0.2)\n",
    "    ax.set_ylabel('CV Score +/- Std Error')\n",
    "    ax.set_xlabel('Alpha')\n",
    "    ax.axhline(np.max(cv_scores), linestyle='--', color='.5')\n",
    "    ax.set_xlim([alpha_space[0], alpha_space[-1]])\n",
    "    ax.set_xscale('log')\n",
    "    plt.show()"
   ]
  },
  {
   "cell_type": "code",
   "execution_count": 8,
   "metadata": {},
   "outputs": [
    {
     "data": {
      "image/png": "[encoded data removed]",
      "text/plain": [
       "<Figure size 432x288 with 1 Axes>"
      ]
     },
     "metadata": {},
     "output_type": "display_data"
    }
   ],
   "source": [
    "# Import necessary modules\n",
    "from sklearn.linear_model import Ridge\n",
    "\n",
    "# Setup the array of alphas and lists to store scores\n",
    "alpha_space = np.logspace(-4, 0, 50)\n",
    "ridge_scores = []\n",
    "ridge_scores_std = []\n",
    "\n",
    "# Create a ridge regressor: ridge\n",
    "ridge = Ridge(normalize=True)\n",
    "\n",
    "# Compute scores over range of alphas\n",
    "for alpha in alpha_space:\n",
    "\n",
    "    # Specify the alpha value to use: ridge.alpha\n",
    "    ridge.alpha = alpha\n",
    "    \n",
    "    # Perform 10-fold CV: ridge_cv_scores\n",
    "    ridge_cv_scores = cross_val_score(ridge, X, y, cv=10)\n",
    "    \n",
    "    # Append the mean of ridge_cv_scores to ridge_scores\n",
    "    ridge_scores.append(np.mean(ridge_cv_scores))\n",
    "    \n",
    "    # Append the std of ridge_cv_scores to ridge_scores_std\n",
    "    ridge_scores_std.append(np.std(ridge_cv_scores))\n",
    "\n",
    "# Display the plot\n",
    "display_plot(ridge_scores, ridge_scores_std)"
   ]
  },
  {
   "cell_type": "markdown",
   "metadata": {},
   "source": [
    "### 2) Run Ridge regression on full/untransformed"
   ]
  },
  {
   "cell_type": "code",
   "execution_count": 9,
   "metadata": {},
   "outputs": [
    {
     "name": "stdout",
     "output_type": "stream",
     "text": [
      "R^2 training set: 0.574171134184982\n",
      "Root Mean Squared Error testing set: 0.7205538627607094\n"
     ]
    }
   ],
   "source": [
    "# Create training and test sets\n",
    "X_train, X_test, y_train, y_test = train_test_split(X, y, test_size = 0.3, random_state=42)\n",
    "\n",
    "# Create the regressor: ridge\n",
    "ridge1 = Ridge(alpha=0.08, normalize=True)\n",
    "\n",
    "# Fit the regressor to the training data\n",
    "ridge1.fit(X_train, y_train)\n",
    "\n",
    "# Predict on the test data: y_pred\n",
    "y_pred = ridge1.predict(X_test)\n",
    "\n",
    "# Compute and print R^2 and RMSE\n",
    "print(\"R^2 training set: {}\".format(ridge1.score(X_train, y_train)))\n",
    "rmse_ridge1 = np.sqrt(mean_squared_error(y_test, y_pred))\n",
    "print(\"Root Mean Squared Error testing set: {}\".format(rmse_ridge1))"
   ]
  },
  {
   "cell_type": "markdown",
   "metadata": {},
   "source": [
    "### 3) 10-fold cross-validation:  Ridge on full/untransformed data"
   ]
  },
  {
   "cell_type": "code",
   "execution_count": 10,
   "metadata": {},
   "outputs": [
    {
     "name": "stdout",
     "output_type": "stream",
     "text": [
      "[0.09297206 0.17317788 0.53291541 0.51360946 0.39568578 0.35639954\n",
      " 0.36176299 0.43453816 0.40983338 0.57204007]\n",
      "Average 10-Fold CV Score: 0.3842934734222261\n"
     ]
    }
   ],
   "source": [
    "# Compute 10-fold cross-validation scores: cv_ridge1\n",
    "cv_ridge1 = cross_val_score(ridge1, X, y, cv=10)\n",
    "\n",
    "# Print the 10-fold cross-validation scores\n",
    "print(cv_ridge1)\n",
    "\n",
    "print(\"Average 10-Fold CV Score: {}\".format(np.mean(cv_ridge1)))"
   ]
  },
  {
   "cell_type": "markdown",
   "metadata": {},
   "source": [
    "## Linear and Ridge regressions using transformed data (log)"
   ]
  },
  {
   "cell_type": "code",
   "execution_count": 11,
   "metadata": {},
   "outputs": [
    {
     "name": "stdout",
     "output_type": "stream",
     "text": [
      "(1623, 71)\n"
     ]
    },
    {
     "data": {
      "text/html": [
       "<div>\n",
       "<style scoped>\n",
       "    .dataframe tbody tr th:only-of-type {\n",
       "        vertical-align: middle;\n",
       "    }\n",
       "\n",
       "    .dataframe tbody tr th {\n",
       "        vertical-align: top;\n",
       "    }\n",
       "\n",
       "    .dataframe thead th {\n",
       "        text-align: right;\n",
       "    }\n",
       "</style>\n",
       "<table border=\"1\" class=\"dataframe\">\n",
       "  <thead>\n",
       "    <tr style=\"text-align: right;\">\n",
       "      <th></th>\n",
       "      <th>drugmort</th>\n",
       "      <th>aamort</th>\n",
       "      <th>chmort</th>\n",
       "      <th>infmort</th>\n",
       "      <th>physdistr</th>\n",
       "      <th>mentdistr</th>\n",
       "      <th>diabetic</th>\n",
       "      <th>hiv</th>\n",
       "      <th>foodins</th>\n",
       "      <th>healthyfood</th>\n",
       "      <th>...</th>\n",
       "      <th>X20income</th>\n",
       "      <th>singparent</th>\n",
       "      <th>socialassoc</th>\n",
       "      <th>violcrime</th>\n",
       "      <th>severehous</th>\n",
       "      <th>commute</th>\n",
       "      <th>new_pcp_ratio</th>\n",
       "      <th>new_mhp_ratio</th>\n",
       "      <th>new_othpcp_ratio</th>\n",
       "      <th>new_dent_ratio</th>\n",
       "    </tr>\n",
       "  </thead>\n",
       "  <tbody>\n",
       "    <tr>\n",
       "      <th>0</th>\n",
       "      <td>2.302585</td>\n",
       "      <td>6.148468</td>\n",
       "      <td>4.007333</td>\n",
       "      <td>1.945910</td>\n",
       "      <td>2.484907</td>\n",
       "      <td>2.564949</td>\n",
       "      <td>13</td>\n",
       "      <td>205.0</td>\n",
       "      <td>14</td>\n",
       "      <td>10</td>\n",
       "      <td>...</td>\n",
       "      <td>10.029900</td>\n",
       "      <td>3.218876</td>\n",
       "      <td>13.7</td>\n",
       "      <td>5.583496</td>\n",
       "      <td>2.708050</td>\n",
       "      <td>43</td>\n",
       "      <td>2408.0</td>\n",
       "      <td>8.975504</td>\n",
       "      <td>8.356320</td>\n",
       "      <td>8.088255</td>\n",
       "    </tr>\n",
       "    <tr>\n",
       "      <th>1</th>\n",
       "      <td>2.833213</td>\n",
       "      <td>5.888878</td>\n",
       "      <td>3.871201</td>\n",
       "      <td>1.791759</td>\n",
       "      <td>2.484907</td>\n",
       "      <td>2.484907</td>\n",
       "      <td>10</td>\n",
       "      <td>169.0</td>\n",
       "      <td>14</td>\n",
       "      <td>5</td>\n",
       "      <td>...</td>\n",
       "      <td>10.001748</td>\n",
       "      <td>3.295837</td>\n",
       "      <td>11.5</td>\n",
       "      <td>5.379897</td>\n",
       "      <td>2.708050</td>\n",
       "      <td>38</td>\n",
       "      <td>1352.0</td>\n",
       "      <td>7.088409</td>\n",
       "      <td>7.893572</td>\n",
       "      <td>7.649693</td>\n",
       "    </tr>\n",
       "    <tr>\n",
       "      <th>2</th>\n",
       "      <td>2.708050</td>\n",
       "      <td>6.255750</td>\n",
       "      <td>4.653960</td>\n",
       "      <td>2.484907</td>\n",
       "      <td>2.564949</td>\n",
       "      <td>2.564949</td>\n",
       "      <td>15</td>\n",
       "      <td>120.0</td>\n",
       "      <td>16</td>\n",
       "      <td>2</td>\n",
       "      <td>...</td>\n",
       "      <td>9.813946</td>\n",
       "      <td>3.401197</td>\n",
       "      <td>10.2</td>\n",
       "      <td>4.990433</td>\n",
       "      <td>2.639057</td>\n",
       "      <td>47</td>\n",
       "      <td>2501.0</td>\n",
       "      <td>7.591105</td>\n",
       "      <td>7.627057</td>\n",
       "      <td>8.638703</td>\n",
       "    </tr>\n",
       "    <tr>\n",
       "      <th>3</th>\n",
       "      <td>3.044522</td>\n",
       "      <td>6.098074</td>\n",
       "      <td>3.784190</td>\n",
       "      <td>1.791759</td>\n",
       "      <td>2.564949</td>\n",
       "      <td>2.564949</td>\n",
       "      <td>14</td>\n",
       "      <td>96.0</td>\n",
       "      <td>12</td>\n",
       "      <td>1</td>\n",
       "      <td>...</td>\n",
       "      <td>9.936874</td>\n",
       "      <td>3.295837</td>\n",
       "      <td>8.5</td>\n",
       "      <td>5.356586</td>\n",
       "      <td>2.484907</td>\n",
       "      <td>60</td>\n",
       "      <td>5247.0</td>\n",
       "      <td>9.576233</td>\n",
       "      <td>9.353141</td>\n",
       "      <td>8.564649</td>\n",
       "    </tr>\n",
       "    <tr>\n",
       "      <th>4</th>\n",
       "      <td>2.564949</td>\n",
       "      <td>6.309918</td>\n",
       "      <td>4.248495</td>\n",
       "      <td>2.079442</td>\n",
       "      <td>2.639057</td>\n",
       "      <td>2.639057</td>\n",
       "      <td>15</td>\n",
       "      <td>198.0</td>\n",
       "      <td>18</td>\n",
       "      <td>10</td>\n",
       "      <td>...</td>\n",
       "      <td>9.703145</td>\n",
       "      <td>3.688879</td>\n",
       "      <td>14.7</td>\n",
       "      <td>6.352629</td>\n",
       "      <td>2.708050</td>\n",
       "      <td>30</td>\n",
       "      <td>1505.0</td>\n",
       "      <td>7.023759</td>\n",
       "      <td>7.766417</td>\n",
       "      <td>7.499423</td>\n",
       "    </tr>\n",
       "  </tbody>\n",
       "</table>\n",
       "<p>5 rows × 71 columns</p>\n",
       "</div>"
      ],
      "text/plain": [
       "   drugmort    aamort    chmort   infmort  physdistr  mentdistr  diabetic  \\\n",
       "0  2.302585  6.148468  4.007333  1.945910   2.484907   2.564949        13   \n",
       "1  2.833213  5.888878  3.871201  1.791759   2.484907   2.484907        10   \n",
       "2  2.708050  6.255750  4.653960  2.484907   2.564949   2.564949        15   \n",
       "3  3.044522  6.098074  3.784190  1.791759   2.564949   2.564949        14   \n",
       "4  2.564949  6.309918  4.248495  2.079442   2.639057   2.639057        15   \n",
       "\n",
       "     hiv  foodins  healthyfood       ...        X20income  singparent  \\\n",
       "0  205.0       14           10       ...        10.029900    3.218876   \n",
       "1  169.0       14            5       ...        10.001748    3.295837   \n",
       "2  120.0       16            2       ...         9.813946    3.401197   \n",
       "3   96.0       12            1       ...         9.936874    3.295837   \n",
       "4  198.0       18           10       ...         9.703145    3.688879   \n",
       "\n",
       "   socialassoc  violcrime  severehous  commute  new_pcp_ratio  new_mhp_ratio  \\\n",
       "0         13.7   5.583496    2.708050       43         2408.0       8.975504   \n",
       "1         11.5   5.379897    2.708050       38         1352.0       7.088409   \n",
       "2         10.2   4.990433    2.639057       47         2501.0       7.591105   \n",
       "3          8.5   5.356586    2.484907       60         5247.0       9.576233   \n",
       "4         14.7   6.352629    2.708050       30         1505.0       7.023759   \n",
       "\n",
       "   new_othpcp_ratio  new_dent_ratio  \n",
       "0          8.356320        8.088255  \n",
       "1          7.893572        7.649693  \n",
       "2          7.627057        8.638703  \n",
       "3          9.353141        8.564649  \n",
       "4          7.766417        7.499423  \n",
       "\n",
       "[5 rows x 71 columns]"
      ]
     },
     "execution_count": 11,
     "metadata": {},
     "output_type": "execute_result"
    }
   ],
   "source": [
    "#Read in csv of transformed data: dftrans\n",
    "dftrans = pd.read_csv('Model3.csv')\n",
    "print(dftrans.shape)\n",
    "dftrans.head()\n"
   ]
  },
  {
   "cell_type": "code",
   "execution_count": 12,
   "metadata": {},
   "outputs": [
    {
     "name": "stdout",
     "output_type": "stream",
     "text": [
      "(1623, 35)\n"
     ]
    },
    {
     "data": {
      "text/html": [
       "<div>\n",
       "<style scoped>\n",
       "    .dataframe tbody tr th:only-of-type {\n",
       "        vertical-align: middle;\n",
       "    }\n",
       "\n",
       "    .dataframe tbody tr th {\n",
       "        vertical-align: top;\n",
       "    }\n",
       "\n",
       "    .dataframe thead th {\n",
       "        text-align: right;\n",
       "    }\n",
       "</style>\n",
       "<table border=\"1\" class=\"dataframe\">\n",
       "  <thead>\n",
       "    <tr style=\"text-align: right;\">\n",
       "      <th></th>\n",
       "      <th>drugmort</th>\n",
       "      <th>aamort</th>\n",
       "      <th>chmort</th>\n",
       "      <th>infmort</th>\n",
       "      <th>mentdistr</th>\n",
       "      <th>foodins</th>\n",
       "      <th>mvmort</th>\n",
       "      <th>uninsure</th>\n",
       "      <th>chuninsure</th>\n",
       "      <th>disconyouth</th>\n",
       "      <th>...</th>\n",
       "      <th>chlamydia</th>\n",
       "      <th>unemployed</th>\n",
       "      <th>chpovertyw</th>\n",
       "      <th>X80income</th>\n",
       "      <th>singparent</th>\n",
       "      <th>socialassoc</th>\n",
       "      <th>severehous</th>\n",
       "      <th>commute</th>\n",
       "      <th>new_pcp_ratio</th>\n",
       "      <th>new_mhp_ratio</th>\n",
       "    </tr>\n",
       "  </thead>\n",
       "  <tbody>\n",
       "    <tr>\n",
       "      <th>0</th>\n",
       "      <td>2.302585</td>\n",
       "      <td>6.148468</td>\n",
       "      <td>4.007333</td>\n",
       "      <td>1.945910</td>\n",
       "      <td>2.564949</td>\n",
       "      <td>14</td>\n",
       "      <td>2.944439</td>\n",
       "      <td>14</td>\n",
       "      <td>3</td>\n",
       "      <td>12.0</td>\n",
       "      <td>...</td>\n",
       "      <td>5.986452</td>\n",
       "      <td>5.2</td>\n",
       "      <td>11.0</td>\n",
       "      <td>97896</td>\n",
       "      <td>3.218876</td>\n",
       "      <td>13.7</td>\n",
       "      <td>2.708050</td>\n",
       "      <td>43</td>\n",
       "      <td>2408.0</td>\n",
       "      <td>8.975504</td>\n",
       "    </tr>\n",
       "    <tr>\n",
       "      <th>1</th>\n",
       "      <td>2.833213</td>\n",
       "      <td>5.888878</td>\n",
       "      <td>3.871201</td>\n",
       "      <td>1.791759</td>\n",
       "      <td>2.484907</td>\n",
       "      <td>14</td>\n",
       "      <td>2.708050</td>\n",
       "      <td>20</td>\n",
       "      <td>5</td>\n",
       "      <td>16.0</td>\n",
       "      <td>...</td>\n",
       "      <td>5.831882</td>\n",
       "      <td>5.5</td>\n",
       "      <td>14.0</td>\n",
       "      <td>99839</td>\n",
       "      <td>3.295837</td>\n",
       "      <td>11.5</td>\n",
       "      <td>2.708050</td>\n",
       "      <td>38</td>\n",
       "      <td>1352.0</td>\n",
       "      <td>7.088409</td>\n",
       "    </tr>\n",
       "    <tr>\n",
       "      <th>2</th>\n",
       "      <td>2.708050</td>\n",
       "      <td>6.255750</td>\n",
       "      <td>4.653960</td>\n",
       "      <td>2.484907</td>\n",
       "      <td>2.564949</td>\n",
       "      <td>16</td>\n",
       "      <td>3.091042</td>\n",
       "      <td>17</td>\n",
       "      <td>4</td>\n",
       "      <td>25.0</td>\n",
       "      <td>...</td>\n",
       "      <td>6.095825</td>\n",
       "      <td>6.6</td>\n",
       "      <td>18.0</td>\n",
       "      <td>78138</td>\n",
       "      <td>3.401197</td>\n",
       "      <td>10.2</td>\n",
       "      <td>2.639057</td>\n",
       "      <td>47</td>\n",
       "      <td>2501.0</td>\n",
       "      <td>7.591105</td>\n",
       "    </tr>\n",
       "    <tr>\n",
       "      <th>3</th>\n",
       "      <td>3.044522</td>\n",
       "      <td>6.098074</td>\n",
       "      <td>3.784190</td>\n",
       "      <td>1.791759</td>\n",
       "      <td>2.564949</td>\n",
       "      <td>12</td>\n",
       "      <td>3.044522</td>\n",
       "      <td>21</td>\n",
       "      <td>6</td>\n",
       "      <td>13.0</td>\n",
       "      <td>...</td>\n",
       "      <td>4.820282</td>\n",
       "      <td>5.4</td>\n",
       "      <td>21.0</td>\n",
       "      <td>83484</td>\n",
       "      <td>3.295837</td>\n",
       "      <td>8.5</td>\n",
       "      <td>2.484907</td>\n",
       "      <td>60</td>\n",
       "      <td>5247.0</td>\n",
       "      <td>9.576233</td>\n",
       "    </tr>\n",
       "    <tr>\n",
       "      <th>4</th>\n",
       "      <td>2.564949</td>\n",
       "      <td>6.309918</td>\n",
       "      <td>4.248495</td>\n",
       "      <td>2.079442</td>\n",
       "      <td>2.639057</td>\n",
       "      <td>18</td>\n",
       "      <td>2.708050</td>\n",
       "      <td>18</td>\n",
       "      <td>3</td>\n",
       "      <td>20.0</td>\n",
       "      <td>...</td>\n",
       "      <td>6.584791</td>\n",
       "      <td>7.0</td>\n",
       "      <td>21.0</td>\n",
       "      <td>79864</td>\n",
       "      <td>3.688879</td>\n",
       "      <td>14.7</td>\n",
       "      <td>2.708050</td>\n",
       "      <td>30</td>\n",
       "      <td>1505.0</td>\n",
       "      <td>7.023759</td>\n",
       "    </tr>\n",
       "  </tbody>\n",
       "</table>\n",
       "<p>5 rows × 35 columns</p>\n",
       "</div>"
      ],
      "text/plain": [
       "   drugmort    aamort    chmort   infmort  mentdistr  foodins    mvmort  \\\n",
       "0  2.302585  6.148468  4.007333  1.945910   2.564949       14  2.944439   \n",
       "1  2.833213  5.888878  3.871201  1.791759   2.484907       14  2.708050   \n",
       "2  2.708050  6.255750  4.653960  2.484907   2.564949       16  3.091042   \n",
       "3  3.044522  6.098074  3.784190  1.791759   2.564949       12  3.044522   \n",
       "4  2.564949  6.309918  4.248495  2.079442   2.639057       18  2.708050   \n",
       "\n",
       "   uninsure  chuninsure  disconyouth      ...        chlamydia  unemployed  \\\n",
       "0        14           3         12.0      ...         5.986452         5.2   \n",
       "1        20           5         16.0      ...         5.831882         5.5   \n",
       "2        17           4         25.0      ...         6.095825         6.6   \n",
       "3        21           6         13.0      ...         4.820282         5.4   \n",
       "4        18           3         20.0      ...         6.584791         7.0   \n",
       "\n",
       "   chpovertyw  X80income  singparent  socialassoc  severehous  commute  \\\n",
       "0        11.0      97896    3.218876         13.7    2.708050       43   \n",
       "1        14.0      99839    3.295837         11.5    2.708050       38   \n",
       "2        18.0      78138    3.401197         10.2    2.639057       47   \n",
       "3        21.0      83484    3.295837          8.5    2.484907       60   \n",
       "4        21.0      79864    3.688879         14.7    2.708050       30   \n",
       "\n",
       "   new_pcp_ratio  new_mhp_ratio  \n",
       "0         2408.0       8.975504  \n",
       "1         1352.0       7.088409  \n",
       "2         2501.0       7.591105  \n",
       "3         5247.0       9.576233  \n",
       "4         1505.0       7.023759  \n",
       "\n",
       "[5 rows x 35 columns]"
      ]
     },
     "execution_count": 12,
     "metadata": {},
     "output_type": "execute_result"
    }
   ],
   "source": [
    "#This is the df for the linear regression: Step, Transformed\n",
    "\n",
    "df35 = dftrans[['drugmort','aamort', 'chmort' , 'infmort' , 'mentdistr' , \n",
    "    'foodins' , 'mvmort' , 'uninsure' , 'chuninsure' , 'disconyouth' , \n",
    "    'homicide' , 'under18' , 'over65' , 'aframer' , 'amerindian' , 'asian' , \n",
    "    'hawaiin' , 'hispanic' , 'rural' , 'lifelost' , 'fairhealth' , 'lowbirth' , \n",
    "    'physinactive' , 'excdrinking' , 'alcoholdrive' , 'chlamydia' , 'unemployed' , \n",
    "    'chpovertyw' , 'X80income' , 'singparent' , 'socialassoc' , 'severehous' , \n",
    "    'commute' , 'new_pcp_ratio' , 'new_mhp_ratio']]\n",
    "print(df35.shape)\n",
    "df35.head()"
   ]
  },
  {
   "cell_type": "markdown",
   "metadata": {},
   "source": [
    "## Set up variables and scale the features: Full/transformed, step/transformed"
   ]
  },
  {
   "cell_type": "code",
   "execution_count": 13,
   "metadata": {},
   "outputs": [],
   "source": [
    "#Set up variables for Full/transformed and Step/transformed: Xft, yft, Xst\n",
    "dftrans2 = dftrans.drop('drugmort', axis = 1)\n",
    "Xft = dftrans2.values\n",
    "yft = dftrans['drugmort'].values\n",
    "\n",
    "df35_2 = df35.drop('drugmort', axis = 1)\n",
    "Xst = df35_2.values\n",
    "yst = df35['drugmort'].values\n"
   ]
  },
  {
   "cell_type": "code",
   "execution_count": 14,
   "metadata": {},
   "outputs": [],
   "source": [
    "# Scale the features\n",
    "Xft = scale(Xft)\n",
    "yft = scale(yft)\n",
    "\n",
    "Xst = scale(Xst)\n",
    "yst = scale(yst)"
   ]
  },
  {
   "cell_type": "markdown",
   "metadata": {},
   "source": [
    "## Linear regression - Step, transformed, scaled"
   ]
  },
  {
   "cell_type": "code",
   "execution_count": 15,
   "metadata": {},
   "outputs": [
    {
     "name": "stdout",
     "output_type": "stream",
     "text": [
      "R^2 training set: 0.5677852052635599\n",
      "Root Mean Squared Error testing set: 0.6490841781141684\n"
     ]
    }
   ],
   "source": [
    "# Create training and test sets\n",
    "X_train, X_test, y_train, y_test = train_test_split(Xst, yst, test_size = 0.3, random_state=42)\n",
    "\n",
    "# Create the regressor: reg_all\n",
    "reg_step = LinearRegression()\n",
    "\n",
    "# Fit the regressor to the training data\n",
    "reg_step.fit(X_train, y_train)\n",
    "\n",
    "# Predict on the test data: y_pred\n",
    "y_pred = reg_step.predict(X_test)\n",
    "\n",
    "# Compute and print R^2 and RMSE\n",
    "print(\"R^2 training set: {}\".format(reg_step.score(X_train, y_train)))\n",
    "\n",
    "rmse_step = np.sqrt(mean_squared_error(y_test, y_pred))\n",
    "print(\"Root Mean Squared Error testing set: {}\".format(rmse_step))\n"
   ]
  },
  {
   "cell_type": "code",
   "execution_count": 16,
   "metadata": {},
   "outputs": [
    {
     "name": "stdout",
     "output_type": "stream",
     "text": [
      "[0.24672519 0.29910195 0.58832297 0.48508654 0.45870452 0.38265053\n",
      " 0.45915632 0.49835549 0.40817547 0.70465947]\n",
      "Average 10-Fold CV Score: 0.4530938467232426\n"
     ]
    }
   ],
   "source": [
    "# Compute 10-fold cross-validation scores: cv_step\n",
    "cv_step = cross_val_score(reg_step, Xst, yst, cv=10)\n",
    "\n",
    "# Print the 10-fold cross-validation scores\n",
    "print(cv_step)\n",
    "\n",
    "print(\"Average 10-Fold CV Score: {}\".format(np.mean(cv_step)))"
   ]
  },
  {
   "cell_type": "markdown",
   "metadata": {},
   "source": [
    "## Ridge Regression: Full/transformed data\n",
    "\n",
    "### 1) Determine the best alpha level"
   ]
  },
  {
   "cell_type": "code",
   "execution_count": 17,
   "metadata": {},
   "outputs": [
    {
     "data": {
      "image/png": "[encoded data removed]",
      "text/plain": [
       "<Figure size 432x288 with 1 Axes>"
      ]
     },
     "metadata": {},
     "output_type": "display_data"
    }
   ],
   "source": [
    "# Setup the array of alphas and lists to store scores\n",
    "alpha_space = np.logspace(-4, 0, 50)\n",
    "ridge_scores = []\n",
    "ridge_scores_std = []\n",
    "\n",
    "# Create a ridge regressor: ridge\n",
    "ridge = Ridge(normalize=True)\n",
    "\n",
    "# Compute scores over range of alphas\n",
    "for alpha in alpha_space:\n",
    "\n",
    "    # Specify the alpha value to use: ridge.alpha\n",
    "    ridge.alpha = alpha\n",
    "    \n",
    "    # Perform 10-fold CV: ridge_cv_scores\n",
    "    ridge_cv_scores = cross_val_score(ridge, Xft, yft, cv=10)\n",
    "    \n",
    "    # Append the mean of ridge_cv_scores to ridge_scores\n",
    "    ridge_scores.append(np.mean(ridge_cv_scores))\n",
    "    \n",
    "    # Append the std of ridge_cv_scores to ridge_scores_std\n",
    "    ridge_scores_std.append(np.std(ridge_cv_scores))\n",
    "\n",
    "# Display the plot\n",
    "display_plot(ridge_scores, ridge_scores_std)"
   ]
  },
  {
   "cell_type": "markdown",
   "metadata": {},
   "source": [
    "Use 0.08 as before"
   ]
  },
  {
   "cell_type": "markdown",
   "metadata": {},
   "source": [
    "### 2) Run Ridge regression on full/transformed data"
   ]
  },
  {
   "cell_type": "code",
   "execution_count": 18,
   "metadata": {},
   "outputs": [
    {
     "name": "stdout",
     "output_type": "stream",
     "text": [
      "R^2 training set: 0.5633423765818528\n",
      "Root Mean Squared Error testing set: 0.6699886296955986\n"
     ]
    }
   ],
   "source": [
    "\n",
    "# Create training and test sets\n",
    "X_train, X_test, y_train, y_test = train_test_split(Xft, yft, test_size = 0.3, random_state=42)\n",
    "\n",
    "# Create the regressor: ridge\n",
    "ridge2 = Ridge(alpha=0.08, normalize=True)\n",
    "\n",
    "# Fit the regressor to the training data\n",
    "ridge2.fit(X_train, y_train)\n",
    "\n",
    "# Predict on the test data: y_pred\n",
    "y_pred = ridge2.predict(X_test)\n",
    "\n",
    "# Compute and print R^2 and RMSE\n",
    "print(\"R^2 training set: {}\".format(ridge2.score(X_train, y_train)))\n",
    "rmse_ridge2 = np.sqrt(mean_squared_error(y_test, y_pred))\n",
    "print(\"Root Mean Squared Error testing set: {}\".format(rmse_ridge2))"
   ]
  },
  {
   "cell_type": "markdown",
   "metadata": {},
   "source": [
    "### 3) 10-fold cross-validation:  Ridge on full/transformed data"
   ]
  },
  {
   "cell_type": "code",
   "execution_count": 19,
   "metadata": {},
   "outputs": [
    {
     "name": "stdout",
     "output_type": "stream",
     "text": [
      "[0.13694898 0.29958846 0.54824298 0.48637592 0.43179191 0.29410167\n",
      " 0.45408188 0.4391111  0.372112   0.68100449]\n",
      "Average 10-Fold CV Score: 0.41433593795083634\n"
     ]
    }
   ],
   "source": [
    "# Compute 10-fold cross-validation scores: cv_ridge2\n",
    "cv_ridge2 = cross_val_score(ridge2, Xft, yft, cv=10)\n",
    "\n",
    "# Print the 10-fold cross-validation scores\n",
    "print(cv_ridge2)\n",
    "\n",
    "print(\"Average 10-Fold CV Score: {}\".format(np.mean(cv_ridge2)))"
   ]
  },
  {
   "cell_type": "markdown",
   "metadata": {},
   "source": [
    "## CONCLUSIONS:  \n",
    "\n",
    "The best R^2 score was with the Ridge regression model with the full, untransformed data (0.57417113). The best RMSE score and the best CV-score were obtained with the Linear regression model with the step-transformed data (0.649084, 0.4530938). Because the purpose of this study is to predict missing values, the Linear regression model with the step-transformed data is the best choice. This model will be used to predict the missing values and produce a completed, estimated map.\n",
    "\n",
    "## Train a final model\n",
    "\n",
    "Run the Linear regresssion model above on the complete step-transformed dataframe: df35"
   ]
  },
  {
   "cell_type": "code",
   "execution_count": 27,
   "metadata": {},
   "outputs": [
    {
     "name": "stdout",
     "output_type": "stream",
     "text": [
      "R^2 final model: 0.5769178491064739\n"
     ]
    }
   ],
   "source": [
    "model = LinearRegression()\n",
    "model_step = model.fit(Xst, yst)\n",
    "\n",
    "print(\"R^2 final model: {}\".format(model_step.score(Xst, yst)))"
   ]
  },
  {
   "cell_type": "markdown",
   "metadata": {},
   "source": [
    "## Predict missing drug overdose mortality values"
   ]
  },
  {
   "cell_type": "code",
   "execution_count": null,
   "metadata": {},
   "outputs": [],
   "source": []
  }
 ],
 "metadata": {
  "kernelspec": {
   "display_name": "Python 3",
   "language": "python",
   "name": "python3"
  },
  "language_info": {
   "codemirror_mode": {
    "name": "ipython",
    "version": 3
   },
   "file_extension": ".py",
   "mimetype": "text/x-python",
   "name": "python",
   "nbconvert_exporter": "python",
   "pygments_lexer": "ipython3",
   "version": "3.6.4"
  }
 },
 "nbformat": 4,
 "nbformat_minor": 2
}
