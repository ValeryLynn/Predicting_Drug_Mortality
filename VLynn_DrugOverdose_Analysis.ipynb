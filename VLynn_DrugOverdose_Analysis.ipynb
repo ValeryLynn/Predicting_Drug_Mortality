{
 "cells": [
  {
   "cell_type": "markdown",
   "metadata": {},
   "source": [
    "## Regression analysis and prediction\n",
    "\n",
    "#### Choice of algorithms\n",
    "\n",
    "This is a fairly large data set that has a great deal of collinearity (features that correlate to each other). Ridge regression is well-suited for dealing with collinearity. It also performs well when there are many features that are believed to have an effect on the response, as is the case in this study. \n",
    "\n",
    "Although Lasso regression could also be used, it is best when the effects are sparse. Meaning, when it is believed that only a small number of features have an effect on the response and the rest do not. The EDA found at least 20 features that had moderate to high correlations with the response so in this case the ridge regression is better suited. \n",
    "\n",
    "For the ridge regression, all features and the response have been centered by their means and scaled by their standard deviations. Sklearn does this with the \"scale\" function. \n",
    "\n",
    "#### The standard score of a sample x is calculated as:\n",
    "\n",
    "z = (x - u) / s\n",
    "\n",
    "where u is the mean of the training samples or zero if with_mean=False, and s is the standard deviation of the training samples or one if with_std=False (from Sklearn documentation). \n",
    "\n",
    "The ridge regression chooses the $beta$ that minimizes:\n",
    "\n",
    "$$(y−X\\beta)^T(y−X\\beta)+\\lambda\\beta^T\\beta$$\n",
    "\n",
    "λ\n",
    "  is a (>= 0) user-set value determined in this study below by plotting the cross-validation score (CV) against several alpha values and choosing the one that optimizes the cv score (this equation uses λ\n",
    ", scikit-learn uses α)\n",
    ". β\n",
    " is a vector of weights, sometimes referred to as the coefficients of regression, βi\n",
    ". The ridge regression estimates of βi are given by the function:\n",
    "\n",
    "$$\\hat{\\beta} = (X^TX + λI)^{-1}X^Ty$$\n",
    "\n",
    "I will also test an ordinary least squares model (OLS). It is possible that the degree of collinearity won't be so high that it negatively impacts the model. The goal is prediction so it will be easy to test the ability of each model to predict using cross-validation. If I were interested in explanation, meaning that we wanted to know the degree to which each feature contributed to the response, then I would need to be more careful about feature selection and choice of model. In general, the OLS looks like this:\n",
    "\n",
    "$$Y = \\beta_{0} + \\beta_{1}X_{1} + \\beta_{2}X_{2} ... \\beta_{n}X_{n} + \\epsilon$$\n",
    "\n",
    "That being said, the EDA demonstrated that some variables were not highly correlated to the response. I will test both models on data where log-normal features have been transformed, and I will create a dataset with only those variables that are shown to have an influence on the response. I will use the \"step\" function in R to determine the optimal size of the model for ordinary least squares (ridge regression has it's own method of shrinkage built in). \n",
    "\n",
    "The model then becomes:\n",
    "\n",
    "$$Y = \\beta_{0} + \\beta_{1}X_{1} + \\beta_{2}logX_{2} ... \\beta_{n}X_{n} + \\epsilon$$\n",
    "\n",
    "Finally, I used the \"step\" function in R to determine the optimal size of the model for ordinary least squares (ridge regression has its own method of shrinkage built in). The step function in R sequentially drops features that are not significant, and measures the Akaike Information Criterion (AIC). The best choice is the model that minimizes the AIC. The “step model” that resulted shrank 74 features to 34 features, leaving a model where all features were significant.\n",
    "\n",
    "The following table shows the six different models to be tested:\n",
    "\n",
    "#### Six Regression Models for Prediction Testing\n",
    "\n",
    "   #|Regression Type | Transformation | Number of Features \n",
    "   -----|----- | ----- | ----- \n",
    "1) |Linear Regression (OLS)|None|Full Model\n",
    "2) |Linear Regression (OLS)|None|35 \n",
    "3) |Ridge Regression |None|Full Model\n",
    "4) |Linear Regression (OLS)|Log*|Full Model\n",
    "5) |Linear Regression (OLS)|Log*|35\n",
    "6) |Ridge Regression|Log*|Full Model\n",
    "\n",
    "*Log is taken on only log-normal variables. \n",
    "\n",
    "The Box-Cox function (in R) determined that it is appropriate to take the log of the response variable. In most cases, transforming the response variable is discouraged because it creates problems with interpretability. However, the one exception is with a log transformation (Faraway 2). \n",
    "\n",
    "The final OLS model becomes:\n",
    "\n",
    "$$log Y = \\beta_{0} + \\beta_{1}X_{1} + \\beta_{2}logX_{2} ... \\beta_{n}X_{n} + \\epsilon$$"
   ]
  },
  {
   "cell_type": "code",
   "execution_count": 73,
   "metadata": {},
   "outputs": [
    {
     "name": "stdout",
     "output_type": "stream",
     "text": [
      "(1623, 75)\n",
      "(1623, 71)\n"
     ]
    },
    {
     "data": {
      "text/html": [
       "<div>\n",
       "<style scoped>\n",
       "    .dataframe tbody tr th:only-of-type {\n",
       "        vertical-align: middle;\n",
       "    }\n",
       "\n",
       "    .dataframe tbody tr th {\n",
       "        vertical-align: top;\n",
       "    }\n",
       "\n",
       "    .dataframe thead th {\n",
       "        text-align: right;\n",
       "    }\n",
       "</style>\n",
       "<table border=\"1\" class=\"dataframe\">\n",
       "  <thead>\n",
       "    <tr style=\"text-align: right;\">\n",
       "      <th></th>\n",
       "      <th>aamort</th>\n",
       "      <th>chmort</th>\n",
       "      <th>infmort</th>\n",
       "      <th>physdistr</th>\n",
       "      <th>mentdistr</th>\n",
       "      <th>diabetic</th>\n",
       "      <th>hiv</th>\n",
       "      <th>foodins</th>\n",
       "      <th>healthyfood</th>\n",
       "      <th>mvmort</th>\n",
       "      <th>...</th>\n",
       "      <th>singparent</th>\n",
       "      <th>socialassoc</th>\n",
       "      <th>violcrime</th>\n",
       "      <th>severehous</th>\n",
       "      <th>commute</th>\n",
       "      <th>new_pcp_ratio</th>\n",
       "      <th>new_mhp_ratio</th>\n",
       "      <th>new_othpcp_ratio</th>\n",
       "      <th>new_dent_ratio</th>\n",
       "      <th>drugmort</th>\n",
       "    </tr>\n",
       "  </thead>\n",
       "  <tbody>\n",
       "    <tr>\n",
       "      <th>0</th>\n",
       "      <td>468.0</td>\n",
       "      <td>55.0</td>\n",
       "      <td>7.0</td>\n",
       "      <td>12</td>\n",
       "      <td>13</td>\n",
       "      <td>13</td>\n",
       "      <td>205.0</td>\n",
       "      <td>14</td>\n",
       "      <td>10</td>\n",
       "      <td>19.0</td>\n",
       "      <td>...</td>\n",
       "      <td>25.0</td>\n",
       "      <td>13.7</td>\n",
       "      <td>266.0</td>\n",
       "      <td>15</td>\n",
       "      <td>43</td>\n",
       "      <td>2408.0</td>\n",
       "      <td>7907.0</td>\n",
       "      <td>4257.0</td>\n",
       "      <td>3256.0</td>\n",
       "      <td>10.0</td>\n",
       "    </tr>\n",
       "    <tr>\n",
       "      <th>1</th>\n",
       "      <td>361.0</td>\n",
       "      <td>48.0</td>\n",
       "      <td>6.0</td>\n",
       "      <td>12</td>\n",
       "      <td>12</td>\n",
       "      <td>10</td>\n",
       "      <td>169.0</td>\n",
       "      <td>14</td>\n",
       "      <td>5</td>\n",
       "      <td>15.0</td>\n",
       "      <td>...</td>\n",
       "      <td>27.0</td>\n",
       "      <td>11.5</td>\n",
       "      <td>217.0</td>\n",
       "      <td>15</td>\n",
       "      <td>38</td>\n",
       "      <td>1352.0</td>\n",
       "      <td>1198.0</td>\n",
       "      <td>2680.0</td>\n",
       "      <td>2100.0</td>\n",
       "      <td>17.0</td>\n",
       "    </tr>\n",
       "    <tr>\n",
       "      <th>2</th>\n",
       "      <td>521.0</td>\n",
       "      <td>105.0</td>\n",
       "      <td>12.0</td>\n",
       "      <td>13</td>\n",
       "      <td>13</td>\n",
       "      <td>15</td>\n",
       "      <td>120.0</td>\n",
       "      <td>16</td>\n",
       "      <td>2</td>\n",
       "      <td>22.0</td>\n",
       "      <td>...</td>\n",
       "      <td>30.0</td>\n",
       "      <td>10.2</td>\n",
       "      <td>147.0</td>\n",
       "      <td>14</td>\n",
       "      <td>47</td>\n",
       "      <td>2501.0</td>\n",
       "      <td>3491.0</td>\n",
       "      <td>2053.0</td>\n",
       "      <td>5646.0</td>\n",
       "      <td>15.0</td>\n",
       "    </tr>\n",
       "    <tr>\n",
       "      <th>3</th>\n",
       "      <td>445.0</td>\n",
       "      <td>44.0</td>\n",
       "      <td>6.0</td>\n",
       "      <td>13</td>\n",
       "      <td>13</td>\n",
       "      <td>14</td>\n",
       "      <td>96.0</td>\n",
       "      <td>12</td>\n",
       "      <td>1</td>\n",
       "      <td>21.0</td>\n",
       "      <td>...</td>\n",
       "      <td>27.0</td>\n",
       "      <td>8.5</td>\n",
       "      <td>212.0</td>\n",
       "      <td>12</td>\n",
       "      <td>60</td>\n",
       "      <td>5247.0</td>\n",
       "      <td>14418.0</td>\n",
       "      <td>11535.0</td>\n",
       "      <td>5243.0</td>\n",
       "      <td>21.0</td>\n",
       "    </tr>\n",
       "    <tr>\n",
       "      <th>4</th>\n",
       "      <td>550.0</td>\n",
       "      <td>70.0</td>\n",
       "      <td>8.0</td>\n",
       "      <td>14</td>\n",
       "      <td>14</td>\n",
       "      <td>15</td>\n",
       "      <td>198.0</td>\n",
       "      <td>18</td>\n",
       "      <td>10</td>\n",
       "      <td>15.0</td>\n",
       "      <td>...</td>\n",
       "      <td>40.0</td>\n",
       "      <td>14.7</td>\n",
       "      <td>574.0</td>\n",
       "      <td>15</td>\n",
       "      <td>30</td>\n",
       "      <td>1505.0</td>\n",
       "      <td>1123.0</td>\n",
       "      <td>2360.0</td>\n",
       "      <td>1807.0</td>\n",
       "      <td>13.0</td>\n",
       "    </tr>\n",
       "  </tbody>\n",
       "</table>\n",
       "<p>5 rows × 71 columns</p>\n",
       "</div>"
      ],
      "text/plain": [
       "   aamort  chmort  infmort  physdistr  mentdistr  diabetic    hiv  foodins  \\\n",
       "0   468.0    55.0      7.0         12         13        13  205.0       14   \n",
       "1   361.0    48.0      6.0         12         12        10  169.0       14   \n",
       "2   521.0   105.0     12.0         13         13        15  120.0       16   \n",
       "3   445.0    44.0      6.0         13         13        14   96.0       12   \n",
       "4   550.0    70.0      8.0         14         14        15  198.0       18   \n",
       "\n",
       "   healthyfood  mvmort    ...     singparent  socialassoc  violcrime  \\\n",
       "0           10    19.0    ...           25.0         13.7      266.0   \n",
       "1            5    15.0    ...           27.0         11.5      217.0   \n",
       "2            2    22.0    ...           30.0         10.2      147.0   \n",
       "3            1    21.0    ...           27.0          8.5      212.0   \n",
       "4           10    15.0    ...           40.0         14.7      574.0   \n",
       "\n",
       "   severehous  commute  new_pcp_ratio  new_mhp_ratio  new_othpcp_ratio  \\\n",
       "0          15       43         2408.0         7907.0            4257.0   \n",
       "1          15       38         1352.0         1198.0            2680.0   \n",
       "2          14       47         2501.0         3491.0            2053.0   \n",
       "3          12       60         5247.0        14418.0           11535.0   \n",
       "4          15       30         1505.0         1123.0            2360.0   \n",
       "\n",
       "   new_dent_ratio  drugmort  \n",
       "0          3256.0      10.0  \n",
       "1          2100.0      17.0  \n",
       "2          5646.0      15.0  \n",
       "3          5243.0      21.0  \n",
       "4          1807.0      13.0  \n",
       "\n",
       "[5 rows x 71 columns]"
      ]
     },
     "execution_count": 73,
     "metadata": {},
     "output_type": "execute_result"
    }
   ],
   "source": [
    "# Import basic Python modules\n",
    "import pandas as pd\n",
    "import numpy as np\n",
    "import matplotlib.pyplot as plt\n",
    "#import seaborn as sns; sns.set(color_codes=True)\n",
    "\n",
    "#Read in csv of cleaned training data for the full regression\n",
    "df = pd.read_csv('VLynn_DrugOverdose_Train.csv')\n",
    "print(df.shape)\n",
    "df.head()\n",
    "\n",
    "#Take out non-numeric columns\n",
    "df.columns\n",
    "df = df.drop(['Unnamed: 0', 'fips', 'state', 'county'], axis = 1)\n",
    "print(df.shape)\n",
    "df.head()"
   ]
  },
  {
   "cell_type": "markdown",
   "metadata": {},
   "source": [
    "## Set up variables and scale the features\n",
    "\n",
    "The features (precictor variables) have very different ranges because of the breadth of this data. Algorithms will run more smoothly if the values were closer to each other. A method known as \"feature scaling\" is a way to standardize the range of the features. This is also called \"data normalization\" and is a common part of data preprocessing.\n",
    "\n",
    "Feature scaling is a method used to standardize the range of independent variables or features of data. In data processing, it is also known as data normalization and is generally performed during the data preprocessing step."
   ]
  },
  {
   "cell_type": "code",
   "execution_count": 74,
   "metadata": {},
   "outputs": [],
   "source": [
    "# Import sklearn regression modules\n",
    "from sklearn.linear_model import LinearRegression\n",
    "\n",
    "#Set up variables: X, y\n",
    "df1= df.drop('drugmort', axis = 1)\n",
    "X = df1.values\n",
    "y = df['drugmort'].values\n",
    "\n"
   ]
  },
  {
   "cell_type": "code",
   "execution_count": 75,
   "metadata": {},
   "outputs": [],
   "source": [
    "# Import scale\n",
    "from sklearn.preprocessing import scale\n",
    "\n",
    "# Scale the features\n",
    "X = scale(X)\n",
    "y = scale(y)\n"
   ]
  },
  {
   "cell_type": "markdown",
   "metadata": {},
   "source": [
    "## Linear regression - full, untransformed, scaled (the kitchen sink)"
   ]
  },
  {
   "cell_type": "code",
   "execution_count": 76,
   "metadata": {},
   "outputs": [
    {
     "name": "stdout",
     "output_type": "stream",
     "text": [
      "R^2 training set: 0.5923868474405766\n",
      "Root Mean Squared Error testing set: 0.7256769706179685\n"
     ]
    }
   ],
   "source": [
    "# Import necessary modules\n",
    "from sklearn.metrics import mean_squared_error\n",
    "from sklearn.model_selection import train_test_split\n",
    "from sklearn.metrics import accuracy_score\n",
    "\n",
    "\n",
    "# Create training and test sets\n",
    "X_train, X_test, y_train, y_test = train_test_split(X, y, test_size = 0.3, random_state=42)\n",
    "\n",
    "# Create the regressor: reg_all\n",
    "reg_all = LinearRegression()\n",
    "\n",
    "# Fit the regressor to the training data\n",
    "reg_all.fit(X_train, y_train)\n",
    "\n",
    "# Predict on the test data: y_pred\n",
    "y_pred = reg_all.predict(X_test)\n",
    "\n",
    "# Compute and print R^2 and RMSE\n",
    "print(\"R^2 training set: {}\".format(reg_all.score(X_train, y_train)))\n",
    "\n",
    "rmsemod1 = np.sqrt(mean_squared_error(y_test, y_pred))\n",
    "print(\"Root Mean Squared Error testing set: {}\".format(rmsemod1))\n",
    "\n"
   ]
  },
  {
   "cell_type": "markdown",
   "metadata": {},
   "source": [
    "## 10-Fold cross validation on full, untransformed linear model"
   ]
  },
  {
   "cell_type": "code",
   "execution_count": 77,
   "metadata": {},
   "outputs": [
    {
     "name": "stdout",
     "output_type": "stream",
     "text": [
      "[0.10258321 0.13008093 0.5233954  0.46291487 0.34001393 0.30878423\n",
      " 0.33333742 0.45222596 0.34701411 0.58185395]\n",
      "Average 10-Fold CV Score: 0.3582203997916027\n"
     ]
    }
   ],
   "source": [
    "# Import the necessary modules\n",
    "from sklearn.model_selection import cross_val_score\n",
    "\n",
    "# Compute 10-fold cross-validation scores: cv_reg\n",
    "cv_reg = cross_val_score(reg_all, X, y, cv=10)\n",
    "\n",
    "# Print the 10-fold cross-validation scores\n",
    "print(cv_reg)\n",
    "\n",
    "print(\"Average 10-Fold CV Score: {}\".format(np.mean(cv_reg)))"
   ]
  },
  {
   "cell_type": "markdown",
   "metadata": {},
   "source": [
    "## Create dataframe with 34 features\n",
    "\n",
    "I used the 'step' function (in R) on all of the features to determine the optimal number of features for the linear regression model. This returned 34 features. Note, the dataframe is named df35 because the response variable makes 35. I will test this against the full regression model"
   ]
  },
  {
   "cell_type": "code",
   "execution_count": 78,
   "metadata": {},
   "outputs": [
    {
     "name": "stdout",
     "output_type": "stream",
     "text": [
      "(1623, 34)\n"
     ]
    }
   ],
   "source": [
    "#This is the df for the linear regression with 34 features\n",
    "df35 = df1[['aamort', 'chmort' , 'infmort' , 'mentdistr' , \n",
    "    'foodins' , 'mvmort' , 'uninsure' , 'chuninsure' , 'disconyouth' , \n",
    "    'homicide' , 'under18' , 'over65' , 'aframer' , 'amerindian' , 'asian' , \n",
    "    'hawaiin' , 'hispanic' , 'rural' , 'lifelost' , 'fairhealth' , 'lowbirth' , \n",
    "    'physinactive' , 'excdrinking' , 'alcoholdrive' , 'chlamydia' , 'unemployed' , \n",
    "    'chpovertyw' , '80income' , 'singparent' , 'socialassoc' , 'severehous' , \n",
    "    'commute' , 'new_pcp_ratio' , 'new_mhp_ratio']]\n",
    "print(df35.shape)\n"
   ]
  },
  {
   "cell_type": "code",
   "execution_count": 79,
   "metadata": {},
   "outputs": [],
   "source": [
    "#Set up variables for : Xstep, ystep\n",
    "Xstep = df35.values\n",
    "ystep = df['drugmort'].values\n",
    "\n",
    "# Scale the features\n",
    "Xstep = scale(Xstep)\n",
    "ystep = scale(ystep)"
   ]
  },
  {
   "cell_type": "markdown",
   "metadata": {},
   "source": [
    "## Linear regression - step, untransformed, scaled (34 features)"
   ]
  },
  {
   "cell_type": "code",
   "execution_count": 80,
   "metadata": {},
   "outputs": [
    {
     "name": "stdout",
     "output_type": "stream",
     "text": [
      "R^2 training set: 0.5739796408675106\n",
      "Root Mean Squared Error testing set: 0.7100274761313532\n"
     ]
    }
   ],
   "source": [
    "# Import necessary modules\n",
    "from sklearn.metrics import mean_squared_error\n",
    "from sklearn.model_selection import train_test_split\n",
    "from sklearn.metrics import accuracy_score\n",
    "\n",
    "\n",
    "# Create training and test sets\n",
    "X_train, X_test, y_train, y_test = train_test_split(Xstep, ystep, test_size = 0.3, random_state=42)\n",
    "\n",
    "# Create the regressor: reg_all\n",
    "reg_step = LinearRegression()\n",
    "\n",
    "# Fit the regressor to the training data\n",
    "reg_step.fit(X_train, y_train)\n",
    "\n",
    "# Predict on the test data: y_pred\n",
    "y_pred = reg_step.predict(X_test)\n",
    "\n",
    "# Compute and print R^2 and RMSE\n",
    "print(\"R^2 training set: {}\".format(reg_step.score(X_train, y_train)))\n",
    "\n",
    "rmsemod2 = np.sqrt(mean_squared_error(y_test, y_pred))\n",
    "print(\"Root Mean Squared Error testing set: {}\".format(rmsemod2))\n",
    "\n"
   ]
  },
  {
   "cell_type": "markdown",
   "metadata": {},
   "source": [
    "## 10-Fold cross validation on step, untransformed scaled"
   ]
  },
  {
   "cell_type": "code",
   "execution_count": 81,
   "metadata": {},
   "outputs": [
    {
     "name": "stdout",
     "output_type": "stream",
     "text": [
      "[0.21819891 0.21256222 0.55889841 0.53936244 0.36390607 0.44553175\n",
      " 0.37754128 0.45531279 0.42529599 0.6428055 ]\n",
      "Average 10-Fold CV Score: 0.42394153664349715\n"
     ]
    }
   ],
   "source": [
    "# Import the necessary modules\n",
    "from sklearn.model_selection import cross_val_score\n",
    "\n",
    "# Compute 10-fold cross-validation scores: cv_reg\n",
    "cv_regstep = cross_val_score(reg_all, Xstep, ystep, cv=10)\n",
    "\n",
    "# Print the 10-fold cross-validation scores\n",
    "print(cv_regstep)\n",
    "\n",
    "print(\"Average 10-Fold CV Score: {}\".format(np.mean(cv_regstep)))"
   ]
  },
  {
   "cell_type": "code",
   "execution_count": null,
   "metadata": {},
   "outputs": [],
   "source": []
  },
  {
   "cell_type": "markdown",
   "metadata": {},
   "source": [
    "## Ridge Regression: Full/untransformed data\n",
    "\n",
    "### 1) Determine the best alpha level"
   ]
  },
  {
   "cell_type": "code",
   "execution_count": 82,
   "metadata": {},
   "outputs": [],
   "source": [
    "def display_plot(cv_scores, cv_scores_std):\n",
    "    fig = plt.figure(figsize=(15,7))\n",
    "    ax = fig.add_subplot(1,1,1)\n",
    "    ax.plot(alpha_space, cv_scores)\n",
    "\n",
    "    std_error = cv_scores_std / np.sqrt(10)\n",
    "\n",
    "    ax.fill_between(alpha_space, cv_scores + std_error, cv_scores - std_error, alpha=0.2)\n",
    "    ax.set_ylabel('CV Score +/- Std Error')\n",
    "    ax.set_xlabel('Alpha')\n",
    "    ax.axhline(np.max(cv_scores), linestyle='--', color='.5')\n",
    "    ax.set_xlim([alpha_space[0], alpha_space[-1]])\n",
    "    ax.set_xscale('log')\n",
    "    plt.show()"
   ]
  },
  {
   "cell_type": "code",
   "execution_count": 83,
   "metadata": {},
   "outputs": [
    {
     "data": {
      "image/png": "[encoded data removed]",
      "text/plain": [
       "<Figure size 1080x504 with 1 Axes>"
      ]
     },
     "metadata": {
      "needs_background": "light"
     },
     "output_type": "display_data"
    }
   ],
   "source": [
    "# Import necessary modules\n",
    "from sklearn.linear_model import Ridge\n",
    "\n",
    "# Setup the array of alphas and lists to store scores\n",
    "alpha_space = np.logspace(-4, 0, 50)\n",
    "ridge_scores = []\n",
    "ridge_scores_std = []\n",
    "\n",
    "# Create a ridge regressor: ridge\n",
    "ridge = Ridge(normalize=True)\n",
    "\n",
    "# Compute scores over range of alphas\n",
    "for alpha in alpha_space:\n",
    "\n",
    "    # Specify the alpha value to use: ridge.alpha\n",
    "    ridge.alpha = alpha\n",
    "    \n",
    "    # Perform 10-fold CV: ridge_cv_scores\n",
    "    ridge_cv_scores = cross_val_score(ridge, X, y, cv=10)\n",
    "    \n",
    "    # Append the mean of ridge_cv_scores to ridge_scores\n",
    "    ridge_scores.append(np.mean(ridge_cv_scores))\n",
    "    \n",
    "    # Append the std of ridge_cv_scores to ridge_scores_std\n",
    "    ridge_scores_std.append(np.std(ridge_cv_scores))\n",
    "\n",
    "# Display the plot\n",
    "display_plot(ridge_scores, ridge_scores_std)"
   ]
  },
  {
   "cell_type": "markdown",
   "metadata": {},
   "source": [
    "From this graph it appears that the optimal alpha value for this regression is 0.08"
   ]
  },
  {
   "cell_type": "markdown",
   "metadata": {},
   "source": [
    "### 2) Run Ridge regression on full/untransformed"
   ]
  },
  {
   "cell_type": "code",
   "execution_count": 84,
   "metadata": {},
   "outputs": [
    {
     "name": "stdout",
     "output_type": "stream",
     "text": [
      "R^2 training set: 0.5736075788576231\n",
      "Root Mean Squared Error testing set: 0.7210173693911791\n"
     ]
    }
   ],
   "source": [
    "# Create training and test sets\n",
    "X_train, X_test, y_train, y_test = train_test_split(X, y, test_size = 0.3, random_state=42)\n",
    "\n",
    "# Create the regressor: ridge\n",
    "ridge1 = Ridge(alpha=0.08, normalize=True)\n",
    "\n",
    "# Fit the regressor to the training data\n",
    "ridge1.fit(X_train, y_train)\n",
    "\n",
    "# Predict on the test data: y_pred\n",
    "y_pred = ridge1.predict(X_test)\n",
    "\n",
    "# Compute and print R^2 and RMSE\n",
    "print(\"R^2 training set: {}\".format(ridge1.score(X_train, y_train)))\n",
    "rmse_ridge1 = np.sqrt(mean_squared_error(y_test, y_pred))\n",
    "print(\"Root Mean Squared Error testing set: {}\".format(rmse_ridge1))"
   ]
  },
  {
   "cell_type": "markdown",
   "metadata": {},
   "source": [
    "### 3) 10-fold cross-validation:  Ridge on full/untransformed data"
   ]
  },
  {
   "cell_type": "code",
   "execution_count": 85,
   "metadata": {},
   "outputs": [
    {
     "name": "stdout",
     "output_type": "stream",
     "text": [
      "[0.09396393 0.17557804 0.53359066 0.51381197 0.39232246 0.35399245\n",
      " 0.35822425 0.43426814 0.41024523 0.57149009]\n",
      "Average 10-Fold CV Score: 0.38374872179841896\n"
     ]
    }
   ],
   "source": [
    "# Compute 10-fold cross-validation scores: cv_ridge1\n",
    "cv_ridge1 = cross_val_score(ridge1, X, y, cv=10)\n",
    "\n",
    "# Print the 10-fold cross-validation scores\n",
    "print(cv_ridge1)\n",
    "\n",
    "print(\"Average 10-Fold CV Score: {}\".format(np.mean(cv_ridge1)))"
   ]
  },
  {
   "cell_type": "markdown",
   "metadata": {},
   "source": [
    "## Linear and Ridge regressions using transformed data (log)\n",
    "\n",
    "It was determined using the EDA and the Box-Cox method (in R) that both the response variable and several predictor variables were log-normal. To transform the data, I took the log of the following variables and saved it in a file (VLynn_DrugOverdose_logTrain.csv)"
   ]
  },
  {
   "cell_type": "code",
   "execution_count": 86,
   "metadata": {},
   "outputs": [
    {
     "name": "stdout",
     "output_type": "stream",
     "text": [
      "(1623, 71)\n"
     ]
    },
    {
     "data": {
      "text/html": [
       "<div>\n",
       "<style scoped>\n",
       "    .dataframe tbody tr th:only-of-type {\n",
       "        vertical-align: middle;\n",
       "    }\n",
       "\n",
       "    .dataframe tbody tr th {\n",
       "        vertical-align: top;\n",
       "    }\n",
       "\n",
       "    .dataframe thead th {\n",
       "        text-align: right;\n",
       "    }\n",
       "</style>\n",
       "<table border=\"1\" class=\"dataframe\">\n",
       "  <thead>\n",
       "    <tr style=\"text-align: right;\">\n",
       "      <th></th>\n",
       "      <th>drugmort</th>\n",
       "      <th>aamort</th>\n",
       "      <th>chmort</th>\n",
       "      <th>infmort</th>\n",
       "      <th>physdistr</th>\n",
       "      <th>mentdistr</th>\n",
       "      <th>diabetic</th>\n",
       "      <th>hiv</th>\n",
       "      <th>foodins</th>\n",
       "      <th>healthyfood</th>\n",
       "      <th>...</th>\n",
       "      <th>X20income</th>\n",
       "      <th>singparent</th>\n",
       "      <th>socialassoc</th>\n",
       "      <th>violcrime</th>\n",
       "      <th>severehous</th>\n",
       "      <th>commute</th>\n",
       "      <th>new_pcp_ratio</th>\n",
       "      <th>new_mhp_ratio</th>\n",
       "      <th>new_othpcp_ratio</th>\n",
       "      <th>new_dent_ratio</th>\n",
       "    </tr>\n",
       "  </thead>\n",
       "  <tbody>\n",
       "    <tr>\n",
       "      <th>0</th>\n",
       "      <td>2.302585</td>\n",
       "      <td>6.148468</td>\n",
       "      <td>4.007333</td>\n",
       "      <td>1.945910</td>\n",
       "      <td>2.484907</td>\n",
       "      <td>2.564949</td>\n",
       "      <td>13</td>\n",
       "      <td>205.0</td>\n",
       "      <td>14</td>\n",
       "      <td>10</td>\n",
       "      <td>...</td>\n",
       "      <td>10.029900</td>\n",
       "      <td>3.218876</td>\n",
       "      <td>13.7</td>\n",
       "      <td>5.583496</td>\n",
       "      <td>2.708050</td>\n",
       "      <td>43</td>\n",
       "      <td>2408.0</td>\n",
       "      <td>8.975504</td>\n",
       "      <td>8.356320</td>\n",
       "      <td>8.088255</td>\n",
       "    </tr>\n",
       "    <tr>\n",
       "      <th>1</th>\n",
       "      <td>2.833213</td>\n",
       "      <td>5.888878</td>\n",
       "      <td>3.871201</td>\n",
       "      <td>1.791759</td>\n",
       "      <td>2.484907</td>\n",
       "      <td>2.484907</td>\n",
       "      <td>10</td>\n",
       "      <td>169.0</td>\n",
       "      <td>14</td>\n",
       "      <td>5</td>\n",
       "      <td>...</td>\n",
       "      <td>10.001748</td>\n",
       "      <td>3.295837</td>\n",
       "      <td>11.5</td>\n",
       "      <td>5.379897</td>\n",
       "      <td>2.708050</td>\n",
       "      <td>38</td>\n",
       "      <td>1352.0</td>\n",
       "      <td>7.088409</td>\n",
       "      <td>7.893572</td>\n",
       "      <td>7.649693</td>\n",
       "    </tr>\n",
       "    <tr>\n",
       "      <th>2</th>\n",
       "      <td>2.708050</td>\n",
       "      <td>6.255750</td>\n",
       "      <td>4.653960</td>\n",
       "      <td>2.484907</td>\n",
       "      <td>2.564949</td>\n",
       "      <td>2.564949</td>\n",
       "      <td>15</td>\n",
       "      <td>120.0</td>\n",
       "      <td>16</td>\n",
       "      <td>2</td>\n",
       "      <td>...</td>\n",
       "      <td>9.813946</td>\n",
       "      <td>3.401197</td>\n",
       "      <td>10.2</td>\n",
       "      <td>4.990433</td>\n",
       "      <td>2.639057</td>\n",
       "      <td>47</td>\n",
       "      <td>2501.0</td>\n",
       "      <td>7.591105</td>\n",
       "      <td>7.627057</td>\n",
       "      <td>8.638703</td>\n",
       "    </tr>\n",
       "    <tr>\n",
       "      <th>3</th>\n",
       "      <td>3.044522</td>\n",
       "      <td>6.098074</td>\n",
       "      <td>3.784190</td>\n",
       "      <td>1.791759</td>\n",
       "      <td>2.564949</td>\n",
       "      <td>2.564949</td>\n",
       "      <td>14</td>\n",
       "      <td>96.0</td>\n",
       "      <td>12</td>\n",
       "      <td>1</td>\n",
       "      <td>...</td>\n",
       "      <td>9.936874</td>\n",
       "      <td>3.295837</td>\n",
       "      <td>8.5</td>\n",
       "      <td>5.356586</td>\n",
       "      <td>2.484907</td>\n",
       "      <td>60</td>\n",
       "      <td>5247.0</td>\n",
       "      <td>9.576233</td>\n",
       "      <td>9.353141</td>\n",
       "      <td>8.564649</td>\n",
       "    </tr>\n",
       "    <tr>\n",
       "      <th>4</th>\n",
       "      <td>2.564949</td>\n",
       "      <td>6.309918</td>\n",
       "      <td>4.248495</td>\n",
       "      <td>2.079442</td>\n",
       "      <td>2.639057</td>\n",
       "      <td>2.639057</td>\n",
       "      <td>15</td>\n",
       "      <td>198.0</td>\n",
       "      <td>18</td>\n",
       "      <td>10</td>\n",
       "      <td>...</td>\n",
       "      <td>9.703145</td>\n",
       "      <td>3.688879</td>\n",
       "      <td>14.7</td>\n",
       "      <td>6.352629</td>\n",
       "      <td>2.708050</td>\n",
       "      <td>30</td>\n",
       "      <td>1505.0</td>\n",
       "      <td>7.023759</td>\n",
       "      <td>7.766417</td>\n",
       "      <td>7.499423</td>\n",
       "    </tr>\n",
       "  </tbody>\n",
       "</table>\n",
       "<p>5 rows × 71 columns</p>\n",
       "</div>"
      ],
      "text/plain": [
       "   drugmort    aamort    chmort   infmort  physdistr  mentdistr  diabetic  \\\n",
       "0  2.302585  6.148468  4.007333  1.945910   2.484907   2.564949        13   \n",
       "1  2.833213  5.888878  3.871201  1.791759   2.484907   2.484907        10   \n",
       "2  2.708050  6.255750  4.653960  2.484907   2.564949   2.564949        15   \n",
       "3  3.044522  6.098074  3.784190  1.791759   2.564949   2.564949        14   \n",
       "4  2.564949  6.309918  4.248495  2.079442   2.639057   2.639057        15   \n",
       "\n",
       "     hiv  foodins  healthyfood       ...        X20income  singparent  \\\n",
       "0  205.0       14           10       ...        10.029900    3.218876   \n",
       "1  169.0       14            5       ...        10.001748    3.295837   \n",
       "2  120.0       16            2       ...         9.813946    3.401197   \n",
       "3   96.0       12            1       ...         9.936874    3.295837   \n",
       "4  198.0       18           10       ...         9.703145    3.688879   \n",
       "\n",
       "   socialassoc  violcrime  severehous  commute  new_pcp_ratio  new_mhp_ratio  \\\n",
       "0         13.7   5.583496    2.708050       43         2408.0       8.975504   \n",
       "1         11.5   5.379897    2.708050       38         1352.0       7.088409   \n",
       "2         10.2   4.990433    2.639057       47         2501.0       7.591105   \n",
       "3          8.5   5.356586    2.484907       60         5247.0       9.576233   \n",
       "4         14.7   6.352629    2.708050       30         1505.0       7.023759   \n",
       "\n",
       "   new_othpcp_ratio  new_dent_ratio  \n",
       "0          8.356320        8.088255  \n",
       "1          7.893572        7.649693  \n",
       "2          7.627057        8.638703  \n",
       "3          9.353141        8.564649  \n",
       "4          7.766417        7.499423  \n",
       "\n",
       "[5 rows x 71 columns]"
      ]
     },
     "execution_count": 86,
     "metadata": {},
     "output_type": "execute_result"
    }
   ],
   "source": [
    "#Read in csv of transformed data: dftrans\n",
    "dftrans = pd.read_csv('VLynn_DrugOverdose_logTrain.csv')\n",
    "print(dftrans.shape)\n",
    "dftrans.head()\n"
   ]
  },
  {
   "cell_type": "markdown",
   "metadata": {},
   "source": []
  },
  {
   "cell_type": "code",
   "execution_count": 87,
   "metadata": {},
   "outputs": [
    {
     "name": "stdout",
     "output_type": "stream",
     "text": [
      "(1623, 35)\n"
     ]
    },
    {
     "data": {
      "text/html": [
       "<div>\n",
       "<style scoped>\n",
       "    .dataframe tbody tr th:only-of-type {\n",
       "        vertical-align: middle;\n",
       "    }\n",
       "\n",
       "    .dataframe tbody tr th {\n",
       "        vertical-align: top;\n",
       "    }\n",
       "\n",
       "    .dataframe thead th {\n",
       "        text-align: right;\n",
       "    }\n",
       "</style>\n",
       "<table border=\"1\" class=\"dataframe\">\n",
       "  <thead>\n",
       "    <tr style=\"text-align: right;\">\n",
       "      <th></th>\n",
       "      <th>drugmort</th>\n",
       "      <th>aamort</th>\n",
       "      <th>chmort</th>\n",
       "      <th>infmort</th>\n",
       "      <th>mentdistr</th>\n",
       "      <th>foodins</th>\n",
       "      <th>mvmort</th>\n",
       "      <th>uninsure</th>\n",
       "      <th>chuninsure</th>\n",
       "      <th>disconyouth</th>\n",
       "      <th>...</th>\n",
       "      <th>chlamydia</th>\n",
       "      <th>unemployed</th>\n",
       "      <th>chpovertyw</th>\n",
       "      <th>X80income</th>\n",
       "      <th>singparent</th>\n",
       "      <th>socialassoc</th>\n",
       "      <th>severehous</th>\n",
       "      <th>commute</th>\n",
       "      <th>new_pcp_ratio</th>\n",
       "      <th>new_mhp_ratio</th>\n",
       "    </tr>\n",
       "  </thead>\n",
       "  <tbody>\n",
       "    <tr>\n",
       "      <th>0</th>\n",
       "      <td>2.302585</td>\n",
       "      <td>6.148468</td>\n",
       "      <td>4.007333</td>\n",
       "      <td>1.945910</td>\n",
       "      <td>2.564949</td>\n",
       "      <td>14</td>\n",
       "      <td>2.944439</td>\n",
       "      <td>14</td>\n",
       "      <td>3</td>\n",
       "      <td>12.0</td>\n",
       "      <td>...</td>\n",
       "      <td>5.986452</td>\n",
       "      <td>5.2</td>\n",
       "      <td>11.0</td>\n",
       "      <td>97896</td>\n",
       "      <td>3.218876</td>\n",
       "      <td>13.7</td>\n",
       "      <td>2.708050</td>\n",
       "      <td>43</td>\n",
       "      <td>2408.0</td>\n",
       "      <td>8.975504</td>\n",
       "    </tr>\n",
       "    <tr>\n",
       "      <th>1</th>\n",
       "      <td>2.833213</td>\n",
       "      <td>5.888878</td>\n",
       "      <td>3.871201</td>\n",
       "      <td>1.791759</td>\n",
       "      <td>2.484907</td>\n",
       "      <td>14</td>\n",
       "      <td>2.708050</td>\n",
       "      <td>20</td>\n",
       "      <td>5</td>\n",
       "      <td>16.0</td>\n",
       "      <td>...</td>\n",
       "      <td>5.831882</td>\n",
       "      <td>5.5</td>\n",
       "      <td>14.0</td>\n",
       "      <td>99839</td>\n",
       "      <td>3.295837</td>\n",
       "      <td>11.5</td>\n",
       "      <td>2.708050</td>\n",
       "      <td>38</td>\n",
       "      <td>1352.0</td>\n",
       "      <td>7.088409</td>\n",
       "    </tr>\n",
       "    <tr>\n",
       "      <th>2</th>\n",
       "      <td>2.708050</td>\n",
       "      <td>6.255750</td>\n",
       "      <td>4.653960</td>\n",
       "      <td>2.484907</td>\n",
       "      <td>2.564949</td>\n",
       "      <td>16</td>\n",
       "      <td>3.091042</td>\n",
       "      <td>17</td>\n",
       "      <td>4</td>\n",
       "      <td>25.0</td>\n",
       "      <td>...</td>\n",
       "      <td>6.095825</td>\n",
       "      <td>6.6</td>\n",
       "      <td>18.0</td>\n",
       "      <td>78138</td>\n",
       "      <td>3.401197</td>\n",
       "      <td>10.2</td>\n",
       "      <td>2.639057</td>\n",
       "      <td>47</td>\n",
       "      <td>2501.0</td>\n",
       "      <td>7.591105</td>\n",
       "    </tr>\n",
       "    <tr>\n",
       "      <th>3</th>\n",
       "      <td>3.044522</td>\n",
       "      <td>6.098074</td>\n",
       "      <td>3.784190</td>\n",
       "      <td>1.791759</td>\n",
       "      <td>2.564949</td>\n",
       "      <td>12</td>\n",
       "      <td>3.044522</td>\n",
       "      <td>21</td>\n",
       "      <td>6</td>\n",
       "      <td>13.0</td>\n",
       "      <td>...</td>\n",
       "      <td>4.820282</td>\n",
       "      <td>5.4</td>\n",
       "      <td>21.0</td>\n",
       "      <td>83484</td>\n",
       "      <td>3.295837</td>\n",
       "      <td>8.5</td>\n",
       "      <td>2.484907</td>\n",
       "      <td>60</td>\n",
       "      <td>5247.0</td>\n",
       "      <td>9.576233</td>\n",
       "    </tr>\n",
       "    <tr>\n",
       "      <th>4</th>\n",
       "      <td>2.564949</td>\n",
       "      <td>6.309918</td>\n",
       "      <td>4.248495</td>\n",
       "      <td>2.079442</td>\n",
       "      <td>2.639057</td>\n",
       "      <td>18</td>\n",
       "      <td>2.708050</td>\n",
       "      <td>18</td>\n",
       "      <td>3</td>\n",
       "      <td>20.0</td>\n",
       "      <td>...</td>\n",
       "      <td>6.584791</td>\n",
       "      <td>7.0</td>\n",
       "      <td>21.0</td>\n",
       "      <td>79864</td>\n",
       "      <td>3.688879</td>\n",
       "      <td>14.7</td>\n",
       "      <td>2.708050</td>\n",
       "      <td>30</td>\n",
       "      <td>1505.0</td>\n",
       "      <td>7.023759</td>\n",
       "    </tr>\n",
       "  </tbody>\n",
       "</table>\n",
       "<p>5 rows × 35 columns</p>\n",
       "</div>"
      ],
      "text/plain": [
       "   drugmort    aamort    chmort   infmort  mentdistr  foodins    mvmort  \\\n",
       "0  2.302585  6.148468  4.007333  1.945910   2.564949       14  2.944439   \n",
       "1  2.833213  5.888878  3.871201  1.791759   2.484907       14  2.708050   \n",
       "2  2.708050  6.255750  4.653960  2.484907   2.564949       16  3.091042   \n",
       "3  3.044522  6.098074  3.784190  1.791759   2.564949       12  3.044522   \n",
       "4  2.564949  6.309918  4.248495  2.079442   2.639057       18  2.708050   \n",
       "\n",
       "   uninsure  chuninsure  disconyouth      ...        chlamydia  unemployed  \\\n",
       "0        14           3         12.0      ...         5.986452         5.2   \n",
       "1        20           5         16.0      ...         5.831882         5.5   \n",
       "2        17           4         25.0      ...         6.095825         6.6   \n",
       "3        21           6         13.0      ...         4.820282         5.4   \n",
       "4        18           3         20.0      ...         6.584791         7.0   \n",
       "\n",
       "   chpovertyw  X80income  singparent  socialassoc  severehous  commute  \\\n",
       "0        11.0      97896    3.218876         13.7    2.708050       43   \n",
       "1        14.0      99839    3.295837         11.5    2.708050       38   \n",
       "2        18.0      78138    3.401197         10.2    2.639057       47   \n",
       "3        21.0      83484    3.295837          8.5    2.484907       60   \n",
       "4        21.0      79864    3.688879         14.7    2.708050       30   \n",
       "\n",
       "   new_pcp_ratio  new_mhp_ratio  \n",
       "0         2408.0       8.975504  \n",
       "1         1352.0       7.088409  \n",
       "2         2501.0       7.591105  \n",
       "3         5247.0       9.576233  \n",
       "4         1505.0       7.023759  \n",
       "\n",
       "[5 rows x 35 columns]"
      ]
     },
     "execution_count": 87,
     "metadata": {},
     "output_type": "execute_result"
    }
   ],
   "source": [
    "#This is the df for the linear regression: Step, Transformed\n",
    "\n",
    "df35_t = dftrans[['drugmort','aamort', 'chmort' , 'infmort' , 'mentdistr' , \n",
    "    'foodins' , 'mvmort' , 'uninsure' , 'chuninsure' , 'disconyouth' , \n",
    "    'homicide' , 'under18' , 'over65' , 'aframer' , 'amerindian' , 'asian' , \n",
    "    'hawaiin' , 'hispanic' , 'rural' , 'lifelost' , 'fairhealth' , 'lowbirth' , \n",
    "    'physinactive' , 'excdrinking' , 'alcoholdrive' , 'chlamydia' , 'unemployed' , \n",
    "    'chpovertyw' , 'X80income' , 'singparent' , 'socialassoc' , 'severehous' , \n",
    "    'commute' , 'new_pcp_ratio' , 'new_mhp_ratio']]\n",
    "print(df35_t.shape)\n",
    "df35_t.head()"
   ]
  },
  {
   "cell_type": "markdown",
   "metadata": {},
   "source": [
    "## Set up variables and scale the features: Full/transformed, step/transformed\n",
    "\n",
    "Here I set up and scale response variables from both the full dataframe of transformed variables, and the 35 transformed variables created using the 'step' function (in R)."
   ]
  },
  {
   "cell_type": "code",
   "execution_count": 88,
   "metadata": {},
   "outputs": [],
   "source": [
    "#Set up variables for Full/transformed and Step/transformed: Xft, yft, Xst, yst\n",
    "dftrans2 = dftrans.drop('drugmort', axis = 1)\n",
    "Xft = dftrans2.values\n",
    "yft = dftrans['drugmort'].values\n",
    "\n",
    "df35_t2 = df35_t.drop('drugmort', axis = 1)\n",
    "Xst = df35_t2.values\n",
    "yst = df35_t['drugmort'].values\n"
   ]
  },
  {
   "cell_type": "code",
   "execution_count": 89,
   "metadata": {},
   "outputs": [],
   "source": [
    "# Scale the features\n",
    "Xft = scale(Xft)\n",
    "yft = scale(yft)\n",
    "\n",
    "Xst = scale(Xst)\n",
    "yst = scale(yst)"
   ]
  },
  {
   "cell_type": "markdown",
   "metadata": {},
   "source": [
    "## Linear regression - Full, transformed, scaled"
   ]
  },
  {
   "cell_type": "code",
   "execution_count": 90,
   "metadata": {},
   "outputs": [],
   "source": [
    "#Insert Full, transformed here\n"
   ]
  },
  {
   "cell_type": "code",
   "execution_count": 91,
   "metadata": {},
   "outputs": [
    {
     "name": "stdout",
     "output_type": "stream",
     "text": [
      "R^2 training set: 0.5809871211269844\n",
      "Root Mean Squared Error testing set: 0.6727687906026559\n"
     ]
    }
   ],
   "source": [
    "# Create training and test sets\n",
    "X_train, X_test, y_train, y_test = train_test_split(Xft, yft, test_size = 0.3, random_state=42)\n",
    "\n",
    "# Create the regressor: reg_all\n",
    "reg_all_t = LinearRegression()\n",
    "\n",
    "# Fit the regressor to the training data\n",
    "reg_all_t.fit(X_train, y_train)\n",
    "\n",
    "# Predict on the test data: y_pred\n",
    "y_pred = reg_all_t.predict(X_test)\n",
    "\n",
    "# Compute and print R^2 and RMSE\n",
    "print(\"R^2 training set: {}\".format(reg_all_t.score(X_train, y_train)))\n",
    "\n",
    "rmsemod2 = np.sqrt(mean_squared_error(y_test, y_pred))\n",
    "print(\"Root Mean Squared Error testing set: {}\".format(rmsemod2))\n",
    "\n"
   ]
  },
  {
   "cell_type": "markdown",
   "metadata": {},
   "source": [
    "## 10-Fold cross validation on full, transformed linear model"
   ]
  },
  {
   "cell_type": "code",
   "execution_count": 92,
   "metadata": {},
   "outputs": [
    {
     "name": "stdout",
     "output_type": "stream",
     "text": [
      "[0.17457928 0.28729364 0.55276823 0.45545188 0.41964033 0.23601571\n",
      " 0.43548987 0.44307133 0.25778709 0.65742916]\n",
      "Average 10-Fold CV Score: 0.3919526526388612\n"
     ]
    }
   ],
   "source": [
    "# Compute 10-fold cross-validation scores: cv_reg\n",
    "cv_reg_t = cross_val_score(reg_all_t, Xft, yft, cv=10)\n",
    "\n",
    "# Print the 10-fold cross-validation scores\n",
    "print(cv_reg_t)\n",
    "\n",
    "print(\"Average 10-Fold CV Score: {}\".format(np.mean(cv_reg_t)))"
   ]
  },
  {
   "cell_type": "markdown",
   "metadata": {},
   "source": [
    "## Linear regression - Step, transformed, scaled"
   ]
  },
  {
   "cell_type": "code",
   "execution_count": 93,
   "metadata": {},
   "outputs": [
    {
     "name": "stdout",
     "output_type": "stream",
     "text": [
      "R^2 training set: 0.56778520526356\n",
      "Root Mean Squared Error testing set: 0.6490841781141685\n"
     ]
    }
   ],
   "source": [
    "# Create training and test sets\n",
    "X_train, X_test, y_train, y_test = train_test_split(Xst, yst, test_size = 0.3, random_state=42)\n",
    "\n",
    "# Create the regressor: reg_step\n",
    "reg_step2 = LinearRegression()\n",
    "\n",
    "# Fit the regressor to the training data\n",
    "reg_step2.fit(X_train, y_train)\n",
    "\n",
    "# Predict on the test data: y_pred\n",
    "y_pred = reg_step2.predict(X_test)\n",
    "\n",
    "# Compute and print R^2 and RMSE\n",
    "print(\"R^2 training set: {}\".format(reg_step2.score(X_train, y_train)))\n",
    "\n",
    "rmse_step2 = np.sqrt(mean_squared_error(y_test, y_pred))\n",
    "print(\"Root Mean Squared Error testing set: {}\".format(rmse_step))\n",
    "\n",
    "\n"
   ]
  },
  {
   "cell_type": "code",
   "execution_count": 94,
   "metadata": {},
   "outputs": [
    {
     "name": "stdout",
     "output_type": "stream",
     "text": [
      "[0.24672519 0.29910195 0.58832297 0.48508654 0.45870452 0.38265053\n",
      " 0.45915632 0.49835549 0.40817547 0.70465947]\n",
      "Average 10-Fold CV Score: 0.45309384672324243\n"
     ]
    }
   ],
   "source": [
    "# Compute 10-fold cross-validation scores: cv_step\n",
    "cv_step2 = cross_val_score(reg_step2, Xst, yst, cv=10)\n",
    "\n",
    "# Print the 10-fold cross-validation scores\n",
    "print(cv_step2)\n",
    "\n",
    "print(\"Average 10-Fold CV Score: {}\".format(np.mean(cv_step2)))"
   ]
  },
  {
   "cell_type": "markdown",
   "metadata": {},
   "source": [
    "## Ridge Regression: Full/transformed data\n",
    "\n",
    "### 1) Determine the best alpha level"
   ]
  },
  {
   "cell_type": "code",
   "execution_count": 95,
   "metadata": {},
   "outputs": [
    {
     "data": {
      "image/png": "[encoded data removed]",
      "text/plain": [
       "<Figure size 1080x504 with 1 Axes>"
      ]
     },
     "metadata": {
      "needs_background": "light"
     },
     "output_type": "display_data"
    }
   ],
   "source": [
    "# Setup the array of alphas and lists to store scores\n",
    "alpha_space = np.logspace(-4, 0, 50)\n",
    "ridge_scores = []\n",
    "ridge_scores_std = []\n",
    "\n",
    "# Create a ridge regressor: ridge\n",
    "ridge = Ridge(normalize=True)\n",
    "\n",
    "# Compute scores over range of alphas\n",
    "for alpha in alpha_space:\n",
    "\n",
    "    # Specify the alpha value to use: ridge.alpha\n",
    "    ridge.alpha = alpha\n",
    "    \n",
    "    # Perform 10-fold CV: ridge_cv_scores\n",
    "    ridge_cv_scores = cross_val_score(ridge, Xft, yft, cv=10)\n",
    "    \n",
    "    # Append the mean of ridge_cv_scores to ridge_scores\n",
    "    ridge_scores.append(np.mean(ridge_cv_scores))\n",
    "    \n",
    "    # Append the std of ridge_cv_scores to ridge_scores_std\n",
    "    ridge_scores_std.append(np.std(ridge_cv_scores))\n",
    "\n",
    "# Display the plot\n",
    "display_plot(ridge_scores, ridge_scores_std)"
   ]
  },
  {
   "cell_type": "markdown",
   "metadata": {},
   "source": [
    "Use 0.06 for this model."
   ]
  },
  {
   "cell_type": "markdown",
   "metadata": {},
   "source": [
    "### 2) Run Ridge regression on full/transformed data"
   ]
  },
  {
   "cell_type": "code",
   "execution_count": 96,
   "metadata": {},
   "outputs": [
    {
     "name": "stdout",
     "output_type": "stream",
     "text": [
      "R^2 training set: 0.5685524777888835\n",
      "Root Mean Squared Error testing set: 0.6680830771598685\n"
     ]
    }
   ],
   "source": [
    "\n",
    "# Create training and test sets\n",
    "X_train, X_test, y_train, y_test = train_test_split(Xft, yft, test_size = 0.3, random_state=42)\n",
    "\n",
    "# Create the regressor: ridge\n",
    "ridge2 = Ridge(alpha=0.06, normalize=True)\n",
    "\n",
    "# Fit the regressor to the training data\n",
    "ridge2.fit(X_train, y_train)\n",
    "\n",
    "# Predict on the test data: y_pred\n",
    "y_pred = ridge2.predict(X_test)\n",
    "\n",
    "# Compute and print R^2 and RMSE\n",
    "print(\"R^2 training set: {}\".format(ridge2.score(X_train, y_train)))\n",
    "rmse_ridge2 = np.sqrt(mean_squared_error(y_test, y_pred))\n",
    "print(\"Root Mean Squared Error testing set: {}\".format(rmse_ridge2))"
   ]
  },
  {
   "cell_type": "markdown",
   "metadata": {},
   "source": [
    "### 3) 10-fold cross-validation:  Ridge on full/transformed data"
   ]
  },
  {
   "cell_type": "code",
   "execution_count": 97,
   "metadata": {},
   "outputs": [
    {
     "name": "stdout",
     "output_type": "stream",
     "text": [
      "[0.14477739 0.30131559 0.55213048 0.48715449 0.43365204 0.29155533\n",
      " 0.45376508 0.44128222 0.3614891  0.67997411]\n",
      "Average 10-Fold CV Score: 0.414709583385758\n"
     ]
    }
   ],
   "source": [
    "# Compute 10-fold cross-validation scores: cv_ridge2\n",
    "cv_ridge2 = cross_val_score(ridge2, Xft, yft, cv=10)\n",
    "\n",
    "# Print the 10-fold cross-validation scores\n",
    "print(cv_ridge2)\n",
    "\n",
    "print(\"Average 10-Fold CV Score: {}\".format(np.mean(cv_ridge2)))"
   ]
  },
  {
   "cell_type": "markdown",
   "metadata": {},
   "source": [
    "## CONCLUSIONS:  \n",
    "\n",
    "Many methods exist that are used to assess the quality of a model. Most common, and the ones I use here, are the R-Squared value (or Adjusted R-Squared for models with more than one feature), the Root Mean Square Error (RMSE), and the CV-score. The R-Squared value measures what proportion of the variation in the response variable can be explained by the features (predictor variables). In a model with many predictors, an R-Square value higher than .50 is often considered to be a well-fitting model. RMSE is the standard deviation of the residuals. RMSE is a measure of how spread out are the residuals. On scaled data, the RMSE is aligned with the correlation. The higher the correlation, the lower the RMSE value. This makes sense because a well-fitting model should have less spread around the predicted line. Finally, the CV-score is a measure of how accurate the model performs in prediction. It is percentage of observations that were correctly predicted.\n",
    "\n",
    "The best R-Square score was with the linear regression model on full, untransformed data, but the cross-validation was low, predicting with only a 35.8% accuracy. The best RMSE score and the best CV-score were obtained with the linear regression model with the step-transformed data (34 features). Because the purpose of this study is to predict missing values, the linear regression model with the step-transformed data is the best choice. This model will be used to predict the missing values and produce a completed, estimated map. But first we should check that the assumptions for linear regression are met. The final check of this model is to look at the residuals and Q-Q plots (in R) to check for constant variance and a normal distribution. \n",
    "\n",
    "\n",
    "\n",
    "\n"
   ]
  },
  {
   "cell_type": "code",
   "execution_count": 98,
   "metadata": {},
   "outputs": [
    {
     "data": {
      "image/png": "[encoded data removed]",
      "text/plain": [
       "<IPython.core.display.Image object>"
      ]
     },
     "execution_count": 98,
     "metadata": {},
     "output_type": "execute_result"
    }
   ],
   "source": [
    "#Download the residuals image\n",
    "from IPython.display import Image\n",
    "Image(filename='residuals.png')"
   ]
  },
  {
   "cell_type": "code",
   "execution_count": 99,
   "metadata": {},
   "outputs": [
    {
     "data": {
      "image/png": "[encoded data removed]",
      "text/plain": [
       "<IPython.core.display.Image object>"
      ]
     },
     "execution_count": 99,
     "metadata": {},
     "output_type": "execute_result"
    }
   ],
   "source": [
    "#Download the Q_Q plot\n",
    "Image(filename='Q_Q.png')"
   ]
  },
  {
   "cell_type": "markdown",
   "metadata": {},
   "source": [
    "These both look really good. The assumptions for the use of this model are met. Next, this model will be used to predict the missing values."
   ]
  },
  {
   "cell_type": "markdown",
   "metadata": {},
   "source": [
    "## Train a final model\n",
    "\n",
    "Run the Linear regresssion model above on the complete step-transformed dataframe: df35"
   ]
  },
  {
   "cell_type": "code",
   "execution_count": 100,
   "metadata": {},
   "outputs": [
    {
     "name": "stdout",
     "output_type": "stream",
     "text": [
      "R^2 final model: 0.5769178491064739\n"
     ]
    }
   ],
   "source": [
    "model = LinearRegression()\n",
    "model_step = model.fit(Xst, yst)\n",
    "\n",
    "print(\"R^2 final model: {}\".format(model_step.score(Xst, yst)))"
   ]
  },
  {
   "cell_type": "markdown",
   "metadata": {},
   "source": [
    "## Predict missing drug overdose mortality values"
   ]
  },
  {
   "cell_type": "code",
   "execution_count": 101,
   "metadata": {},
   "outputs": [
    {
     "name": "stdout",
     "output_type": "stream",
     "text": [
      "(1511, 75)\n"
     ]
    },
    {
     "data": {
      "text/plain": [
       "(1511, 34)"
      ]
     },
     "execution_count": 101,
     "metadata": {},
     "output_type": "execute_result"
    }
   ],
   "source": [
    "#Read in csv of cleaned data for testing\n",
    "df_test = pd.read_csv('VLynn_DrugOverdose_Test.csv')\n",
    "df35_test = pd.DataFrame(data = df_test, columns = ['aamort', 'chmort', 'infmort', 'mentdistr', 'foodins', 'mvmort',\n",
    "       'uninsure', 'chuninsure', 'disconyouth', 'homicide', 'under18',\n",
    "       'over65', 'aframer', 'amerindian', 'asian', 'hawaiin', 'hispanic',\n",
    "       'rural', 'lifelost', 'fairhealth', 'lowbirth', 'physinactive',\n",
    "       'excdrinking', 'alcoholdrive', 'chlamydia', 'unemployed', 'chpovertyw',\n",
    "       '80income', 'singparent', 'socialassoc', 'severehous', 'commute',\n",
    "       'new_pcp_ratio', 'new_mhp_ratio'])\n",
    "print(df_test.shape)\n",
    "df35_test.shape"
   ]
  },
  {
   "cell_type": "code",
   "execution_count": 102,
   "metadata": {},
   "outputs": [
    {
     "data": {
      "text/plain": [
       "(1511, 14)"
      ]
     },
     "execution_count": 102,
     "metadata": {},
     "output_type": "execute_result"
    }
   ],
   "source": [
    "#Take the log for all the log-normal variables.\n",
    "df35_logtest = pd.DataFrame(data = df35_test, columns = ['aamort', 'chmort', 'infmort', 'mentdistr', 'mvmort', 'homicide',\n",
    "       'over65', 'lifelost', 'fairhealth', 'lowbirth', 'chlamydia',\n",
    "       'singparent', 'severehous', 'new_mhp_ratio'])\n",
    "\n",
    "df35_logtest = np.log(df35_logtest)\n",
    "df35_logtest.shape\n"
   ]
  },
  {
   "cell_type": "code",
   "execution_count": 103,
   "metadata": {},
   "outputs": [
    {
     "data": {
      "text/plain": [
       "(1511, 34)"
      ]
     },
     "execution_count": 103,
     "metadata": {},
     "output_type": "execute_result"
    }
   ],
   "source": [
    "#Create dataframe of numerical variables that are not log-normal\n",
    "df35_var = pd.DataFrame(data = df35_test, columns =['foodins', 'uninsure', 'chuninsure', 'disconyouth', 'under18',\n",
    "       'aframer', 'amerindian', 'asian', 'hawaiin', 'hispanic', 'rural',\n",
    "       'physinactive', 'excdrinking', 'alcoholdrive', 'unemployed',\n",
    "       'chpovertyw', '80income','socialassoc', 'commute', 'new_pcp_ratio'])\n",
    "\n",
    "#Perform inner join with log-variables\n",
    "left = df35_logtest\n",
    "right = df35_var\n",
    "\n",
    "df_predict = pd.merge(left, right, left_index=True, right_index=True)\n",
    "\n",
    "#change any non-float variables to float\n",
    "df_predict[['foodins', 'physinactive','excdrinking', 'commute']] = \\\n",
    "    df_predict[['foodins', 'physinactive','excdrinking', 'commute']].astype(float)\n",
    "df_predict.shape"
   ]
  },
  {
   "cell_type": "code",
   "execution_count": 104,
   "metadata": {},
   "outputs": [
    {
     "name": "stdout",
     "output_type": "stream",
     "text": [
      "singparent    singparent\n",
      "dtype: object\n",
      "Int64Index([1277], dtype='int64')\n",
      "<class 'numpy.ndarray'>\n",
      "1511\n",
      "[-0.02065899 -0.59133736  0.57588271  0.22777078 -0.62000462  0.15594988\n",
      " -0.32844155  0.01238831 -1.04687024 -0.07392285  0.23873393  0.08675354\n",
      "  0.20467629 -0.49810199 -0.3445098 ]\n"
     ]
    }
   ],
   "source": [
    "\n",
    "#Check for infinite values\n",
    "print(df_predict.columns.to_series()[np.isinf(df_predict).any()])\n",
    "print(df_predict.index[np.isinf(df_predict).any(1)])\n",
    "\n",
    "#Replace infinite value with NaN, then fillna with column mean\n",
    "pd.options.mode.use_inf_as_na = True\n",
    "df_predict['singparent'].fillna(df_predict['singparent'].mean(),inplace=True)\n",
    "\n",
    "#Set up variables from testing dataframe: \n",
    "Xpred = df_predict.values\n",
    "\n",
    "#Scale variables\n",
    "Xpred = scale(Xpred)\n",
    "\n",
    "# Predict on the test data: Ypred\n",
    "Ypred = model_step.predict(Xpred)\n",
    "print(type(Ypred))\n",
    "print(len(Ypred))\n",
    "print(Ypred[:15])\n"
   ]
  },
  {
   "cell_type": "code",
   "execution_count": 105,
   "metadata": {},
   "outputs": [
    {
     "name": "stdout",
     "output_type": "stream",
     "text": [
      "[0.97779367 0.5258224  1.87010082 1.28093457 0.50968955 1.18473561\n",
      " 0.6997582  1.01355734 0.32047141 0.92278856 1.2962909  1.09889187\n",
      " 1.24917823 0.58190758 0.68764206]\n"
     ]
    }
   ],
   "source": [
    "#Unscale the predicted values\n",
    "mean_of_array = Ypred.mean(axis=0)\n",
    "std_of_array = Ypred.std(axis=0)\n",
    "\n",
    "Yunscaled = (Ypred * std_of_array) + mean_of_array\n",
    "\n",
    "#Unlog the predicted unscaled values\n",
    "predictedY = np.exp(Yunscaled)\n",
    "\n",
    "print(predictedY[:15])\n",
    "\n"
   ]
  },
  {
   "cell_type": "code",
   "execution_count": 106,
   "metadata": {},
   "outputs": [
    {
     "data": {
      "text/plain": [
       "count    1511.000000\n",
       "mean        2.232958\n",
       "std         8.646785\n",
       "min         0.000000\n",
       "25%         1.000000\n",
       "50%         1.000000\n",
       "75%         2.000000\n",
       "max       229.000000\n",
       "Name: drugmort, dtype: float64"
      ]
     },
     "execution_count": 106,
     "metadata": {},
     "output_type": "execute_result"
    }
   ],
   "source": [
    "#Convert the series to a dataframe and get summary stats for predicted values\n",
    "df_predY = pd.DataFrame(data = predictedY, columns=['drugmort'])\n",
    "df_predY['drugmort'] = df_predY['drugmort'].round(0)\n",
    "df_predY['drugmort'].describe()\n"
   ]
  },
  {
   "cell_type": "code",
   "execution_count": 107,
   "metadata": {},
   "outputs": [
    {
     "data": {
      "text/plain": [
       "count    1623.000000\n",
       "mean       18.155884\n",
       "std         9.479537\n",
       "min         3.000000\n",
       "25%        12.000000\n",
       "50%        16.000000\n",
       "75%        22.000000\n",
       "max        93.000000\n",
       "Name: drugmort, dtype: float64"
      ]
     },
     "execution_count": 107,
     "metadata": {},
     "output_type": "execute_result"
    }
   ],
   "source": [
    "#compare to summary stats for training data values\n",
    "df_train = pd.read_csv('VLynn_DrugOverdose_Train.csv')\n",
    "df_train.head()\n",
    "df_train['drugmort'].describe()"
   ]
  },
  {
   "cell_type": "markdown",
   "metadata": {},
   "source": [
    "These look different so I will compare graphically."
   ]
  },
  {
   "cell_type": "code",
   "execution_count": 115,
   "metadata": {},
   "outputs": [
    {
     "data": {
      "image/png": "[encoded data removed]",
      "text/plain": [
       "<Figure size 576x288 with 1 Axes>"
      ]
     },
     "metadata": {
      "needs_background": "light"
     },
     "output_type": "display_data"
    }
   ],
   "source": [
    "import seaborn as sns\n",
    "import scipy\n",
    "from scipy import stats\n",
    "\n",
    "plt.figure(figsize=(8,4))\n",
    "plt.title('Density Plots for Nonpredicted and Predicted Variables',size = 20, y=1.02)\n",
    "sns.kdeplot(df_train['drugmort'], label=\"drugmort unpredicted\")\n",
    "sns.kdeplot(df_predY['drugmort'], label=\"drugmort predicted\")\n",
    "plt.xlabel(\"Drug mortality\")\n",
    "\n",
    "plt.legend();\n",
    "plt.savefig('distibutions.png')\n",
    "plt.show()"
   ]
  },
  {
   "cell_type": "code",
   "execution_count": null,
   "metadata": {},
   "outputs": [],
   "source": [
    "#Join training and testing sets\n",
    "df_test['drugmort'] = df_predY['drugmort']\n",
    "df_joined = pd.concat([df_train, df_test], ignore_index=True)\n",
    "\n",
    "#Number of predicted 'zero' values\n",
    "df0 = df_predY[(df_predY['drugmort'] == 0)]\n",
    "print('Number of zeros in predicted values:  ', df0.shape)\n",
    "print('Shape of joined dataframe:  ', df_joined.shape)"
   ]
  },
  {
   "cell_type": "markdown",
   "metadata": {},
   "source": [
    "The shape of the distribution of predicted values is similar, right skewed with most of the data near the lower end of the values. However, the model made predictions with more values at the extremes. This is not helped by having 377 predicted values that are zero. The standard deviations are similar but the predicted values have a lower mean and a much higher maximum values. There are more outliers in the predicted values. This means that most likely the predicted values will be either lower or higher than the real values would be had they been reported. \n",
    "\n",
    "There are several things that could be done to improve this model. The first would be to include interaction terms, which were not tested in this study. The second thing would be to consider generalized linear regression models that may better handle this data, as it included variables that were not normally distributed. The last would be to include the Elastic Net in the group of tested models. \n",
    "\n",
    "## Join predicted data to original map data to create predicted map"
   ]
  },
  {
   "cell_type": "code",
   "execution_count": null,
   "metadata": {},
   "outputs": [],
   "source": [
    "#Read csv with original mapdata: Mapdata.csv\n",
    "df_map = pd.read_csv('Mapdata.csv')\n",
    "df_map.rename(columns={\"State\": \"state\", \"County\": \"county\"}, inplace=True)\n",
    "\n",
    "#Sort both by state and county\n",
    "df_joined.sort_values(['state', 'county'],inplace=True)\n",
    "df_map.sort_values(['state', 'county'],inplace=True)\n",
    "\n",
    "result = pd.merge(df_map, df_joined, how='inner', on=['state', 'county'])\n",
    "result.to_csv('VLynn_DrugOverdose_Finalmap.csv')\n"
   ]
  },
  {
   "cell_type": "markdown",
   "metadata": {},
   "source": [
    "   ## Create U.S. cloropleth map with missing values filled with predicted values"
   ]
  },
  {
   "cell_type": "code",
   "execution_count": null,
   "metadata": {},
   "outputs": [],
   "source": [
    "#Load packages for cloropleth map\n",
    "\n",
    "import plotly.figure_factory as ff\n",
    "import plotly.offline as offline\n",
    "import geopandas\n",
    "\n",
    "offline.init_notebook_mode()\n",
    "\n",
    "import numpy as np\n",
    "import pandas as pd\n",
    "\n",
    "df_sample = pd.read_csv('VLynn_DrugOverdose_Finalmap.csv')"
   ]
  },
  {
   "cell_type": "code",
   "execution_count": null,
   "metadata": {},
   "outputs": [],
   "source": [
    "#Create 'fips' list in the right format for the figure\n",
    "df_sample['State FIPS Code'] = df_sample['State FIPS Code'].apply(lambda x: str(x).zfill(2))\n",
    "df_sample['County FIPS Code'] = df_sample['County FIPS Code'].apply(lambda x: str(x).zfill(3))\n",
    "df_sample['FIPS'] = df_sample['State FIPS Code'] + df_sample['County FIPS Code']\n",
    "\n",
    "colorscale = [\"#f7fbff\",\"#deebf7\",\"#c6dbef\",\"#9ecae1\",\n",
    "              \"#85bcdb\",\"#6baed6\",\"#4292c6\",\"#3082be\",\"#2171b5\",\"#1361a9\",\n",
    "             \"#08306b\"]\n",
    "endpts = list(np.linspace(0, 40, len(colorscale) - 1))\n",
    "fips = df_sample['FIPS'].tolist()\n",
    "\n",
    "values = df_sample['drugmort'].fillna(-1).astype(int).tolist()\n",
    "\n",
    "fig = ff.create_choropleth(\n",
    "    fips=fips, values=values, \n",
    "    binning_endpoints=endpts,\n",
    "    colorscale=colorscale,\n",
    "    show_state_data=False,\n",
    "    show_hover=True, centroid_marker={'opacity': 0},\n",
    "    asp=2.9, title='2017 U.S. Drug Overdose Mortality Rates, per 100,000*',\n",
    "    legend_title='*Rates <0 are missing')\n",
    "\n",
    "offline.iplot(fig, image='png', filename='2017_US_Map_Overdmort_Predicted')"
   ]
  },
  {
   "cell_type": "code",
   "execution_count": null,
   "metadata": {},
   "outputs": [],
   "source": []
  }
 ],
 "metadata": {
  "kernelspec": {
   "display_name": "Python 3",
   "language": "python",
   "name": "python3"
  },
  "language_info": {
   "codemirror_mode": {
    "name": "ipython",
    "version": 3
   },
   "file_extension": ".py",
   "mimetype": "text/x-python",
   "name": "python",
   "nbconvert_exporter": "python",
   "pygments_lexer": "ipython3",
   "version": "3.7.0"
  }
 },
 "nbformat": 4,
 "nbformat_minor": 2
}
